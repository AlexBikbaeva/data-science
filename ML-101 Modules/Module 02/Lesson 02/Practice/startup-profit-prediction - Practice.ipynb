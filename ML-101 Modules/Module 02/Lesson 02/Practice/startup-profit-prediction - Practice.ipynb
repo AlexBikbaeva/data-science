{
 "cells": [
  {
   "cell_type": "markdown",
   "metadata": {},
   "source": [
    "# \"50 startups.\""
   ]
  },
  {
   "cell_type": "markdown",
   "metadata": {},
   "source": [
    "### _\"Predict which companies to invest for maximizing profit\" (Regression task)._"
   ]
  },
  {
   "cell_type": "markdown",
   "metadata": {},
   "source": [
    "## Table of Contents\n",
    "\n",
    "\n",
    "## Part 0: Introduction\n",
    "\n",
    "### Overview\n",
    "The dataset that's we see here contains data about 50 startups. It has 7 columns: “ID”, “R&D Spend”, “Administration”, “Marketing Spend”, “State”, “Category”  “Profit”.\n",
    "\n",
    "    \n",
    "**Метаданные:**\n",
    "    \n",
    "* **ID** - startup ID\n",
    "\n",
    "* **R&D Spend** - how much each startup spends on Research and Development\n",
    "\n",
    "* **Administration** - how much they spend on Administration cost\n",
    "\n",
    "* **Marketing Spend** - how much they spend on Marketing\n",
    "\n",
    "* **State** - which state the startup is based in\n",
    "\n",
    "* **Category** - which business category the startup belong to\n",
    "\n",
    "* **Profit** - the profit made by the startup\n",
    "   \n",
    "\n",
    "### Questions:\n",
    "    \n",
    "\n",
    "* #### Predict which companies to invest for maximizing profit (choose model with the best score; create predictions; choose companies)\n",
    "\n",
    "\n",
    "## [Part 1: Import, Load Data](#Part-1:-Import,-Load-Data.)\n",
    "* ### Import libraries, Read data from ‘.csv’ file\n",
    "\n",
    "## [Part 2: Exploratory Data Analysis](#Part-2:-Exploratory-Data-Analysis.)\n",
    "* ### Info, Head\n",
    "* ### Observation of target variable (describe + visualisation:distplot)\n",
    "* ### Numerical and Categorical features\n",
    "    * #### List of Numerical and Categorical features\n",
    "* ### Missing Data\n",
    "    * #### List of data features with missing values  \n",
    "    * #### Filling missing values\n",
    "* ### Numerical and Categorical features    \n",
    "    * #### Visualisation  of Numerical and categorical features (regplot + barplot)\n",
    "\n",
    "## [Part 3: Data Wrangling and Transformation](#Part-3:-Data-Wrangling-and-Transformation.)\n",
    "* ### One-Hot Encoding \n",
    "* ### Standard Scaler (optional)\n",
    "* ### Creating datasets for ML part\n",
    "* ### 'Train\\Test' splitting method\n",
    "\n",
    "## [Part 4: Machine Learning](#Part-4:-Machine-Learning.)\n",
    "* ### ML Models (Linear regression, Gradient Boosting Regression)\n",
    "* ### Build, train, evaluate and visualise models\n",
    "* ### Creating final predictions with Test set\n",
    "* ### Model comparison\n",
    "\n",
    "\n",
    "## [Conclusion](#Conclusion.)\n",
    "* ### Submission of ‘.csv’ file with predictions"
   ]
  },
  {
   "cell_type": "markdown",
   "metadata": {},
   "source": [
    "## Part 1: Import, Load Data."
   ]
  },
  {
   "cell_type": "markdown",
   "metadata": {},
   "source": [
    "* ### Import "
   ]
  },
  {
   "cell_type": "code",
   "execution_count": 48,
   "metadata": {},
   "outputs": [],
   "source": [
    "#import standard libraries\n",
    "import numpy as np \n",
    "import pandas as pd \n",
    "import seaborn as sns\n",
    "import matplotlib.pyplot as plt\n",
    "import pylab as pl\n",
    "from scipy import stats                                                                                                                                                                                                                                                                                                                                                                                                                                                                                                                                                                                                                                                                                                                                                                                                                                                                                                                                                                                                                                                                        \n",
    "\n",
    "# import models and metrics\n",
    "from sklearn import metrics, linear_model, model_selection\n",
    "from sklearn.metrics import r2_score, mean_squared_error, mean_squared_log_error, mean_absolute_error\n",
    "from sklearn.model_selection import cross_val_score\n",
    "from sklearn.linear_model import LinearRegression\n",
    "from sklearn.ensemble import GradientBoostingRegressor\n",
    "from sklearn.preprocessing import StandardScaler"
   ]
  },
  {
   "cell_type": "markdown",
   "metadata": {},
   "source": [
    "* ### Load Data"
   ]
  },
  {
   "cell_type": "code",
   "execution_count": 2,
   "metadata": {
    "_cell_guid": "79c7e3d0-c299-4dcb-8224-4455121ee9b0",
    "_uuid": "d629ff2d2480ee46fbb7e2d37f6b5fab8052498a"
   },
   "outputs": [],
   "source": [
    "# read data from '.csv' files\n",
    "train = pd.read_csv(\"train.csv\")\n",
    "test = pd.read_csv(\"test.csv\")\n",
    "# identify target\n",
    "target = train[\"Profit\"]"
   ]
  },
  {
   "cell_type": "markdown",
   "metadata": {},
   "source": [
    "## Part 2: Exploratory Data Analysis."
   ]
  },
  {
   "cell_type": "markdown",
   "metadata": {},
   "source": [
    "* ### Info"
   ]
  },
  {
   "cell_type": "code",
   "execution_count": 3,
   "metadata": {},
   "outputs": [
    {
     "name": "stdout",
     "output_type": "stream",
     "text": [
      "<class 'pandas.core.frame.DataFrame'>\n",
      "RangeIndex: 50 entries, 0 to 49\n",
      "Data columns (total 7 columns):\n",
      "ID                 50 non-null int64\n",
      "R&D Spend          48 non-null float64\n",
      "Administration     50 non-null float64\n",
      "Marketing Spend    47 non-null float64\n",
      "State              50 non-null object\n",
      "Category           49 non-null object\n",
      "Profit             50 non-null float64\n",
      "dtypes: float64(4), int64(1), object(2)\n",
      "memory usage: 2.8+ KB\n"
     ]
    }
   ],
   "source": [
    "# print the full summary of the Train dataset\n",
    "train.info()"
   ]
  },
  {
   "cell_type": "code",
   "execution_count": 4,
   "metadata": {},
   "outputs": [
    {
     "name": "stdout",
     "output_type": "stream",
     "text": [
      "<class 'pandas.core.frame.DataFrame'>\n",
      "RangeIndex: 50 entries, 0 to 49\n",
      "Data columns (total 6 columns):\n",
      "ID                 50 non-null int64\n",
      "R&D Spend          48 non-null float64\n",
      "Administration     48 non-null float64\n",
      "Marketing Spend    50 non-null float64\n",
      "State              49 non-null object\n",
      "Category           50 non-null object\n",
      "dtypes: float64(3), int64(1), object(2)\n",
      "memory usage: 2.4+ KB\n"
     ]
    }
   ],
   "source": [
    "# print the full summary of the Test dataset\n",
    "test.info()"
   ]
  },
  {
   "cell_type": "markdown",
   "metadata": {},
   "source": [
    "* ### Head"
   ]
  },
  {
   "cell_type": "code",
   "execution_count": 5,
   "metadata": {
    "scrolled": false
   },
   "outputs": [
    {
     "data": {
      "text/html": [
       "<div>\n",
       "<style scoped>\n",
       "    .dataframe tbody tr th:only-of-type {\n",
       "        vertical-align: middle;\n",
       "    }\n",
       "\n",
       "    .dataframe tbody tr th {\n",
       "        vertical-align: top;\n",
       "    }\n",
       "\n",
       "    .dataframe thead th {\n",
       "        text-align: right;\n",
       "    }\n",
       "</style>\n",
       "<table border=\"1\" class=\"dataframe\">\n",
       "  <thead>\n",
       "    <tr style=\"text-align: right;\">\n",
       "      <th></th>\n",
       "      <th>ID</th>\n",
       "      <th>R&amp;D Spend</th>\n",
       "      <th>Administration</th>\n",
       "      <th>Marketing Spend</th>\n",
       "      <th>State</th>\n",
       "      <th>Category</th>\n",
       "      <th>Profit</th>\n",
       "    </tr>\n",
       "  </thead>\n",
       "  <tbody>\n",
       "    <tr>\n",
       "      <th>0</th>\n",
       "      <td>0</td>\n",
       "      <td>165349.20</td>\n",
       "      <td>136897.80</td>\n",
       "      <td>471784.10</td>\n",
       "      <td>New York</td>\n",
       "      <td>Industrials</td>\n",
       "      <td>192261.83</td>\n",
       "    </tr>\n",
       "    <tr>\n",
       "      <th>1</th>\n",
       "      <td>1</td>\n",
       "      <td>162597.70</td>\n",
       "      <td>151377.59</td>\n",
       "      <td>443898.53</td>\n",
       "      <td>California</td>\n",
       "      <td>Technology</td>\n",
       "      <td>191792.06</td>\n",
       "    </tr>\n",
       "    <tr>\n",
       "      <th>2</th>\n",
       "      <td>2</td>\n",
       "      <td>153441.51</td>\n",
       "      <td>101145.55</td>\n",
       "      <td>407934.54</td>\n",
       "      <td>Florida</td>\n",
       "      <td>Healthcare</td>\n",
       "      <td>191050.39</td>\n",
       "    </tr>\n",
       "    <tr>\n",
       "      <th>3</th>\n",
       "      <td>3</td>\n",
       "      <td>144372.41</td>\n",
       "      <td>118671.85</td>\n",
       "      <td>383199.62</td>\n",
       "      <td>New York</td>\n",
       "      <td>Financials</td>\n",
       "      <td>182901.99</td>\n",
       "    </tr>\n",
       "    <tr>\n",
       "      <th>4</th>\n",
       "      <td>4</td>\n",
       "      <td>142107.34</td>\n",
       "      <td>91391.77</td>\n",
       "      <td>366168.42</td>\n",
       "      <td>Florida</td>\n",
       "      <td>Industrials</td>\n",
       "      <td>166187.94</td>\n",
       "    </tr>\n",
       "  </tbody>\n",
       "</table>\n",
       "</div>"
      ],
      "text/plain": [
       "   ID  R&D Spend  Administration  Marketing Spend       State     Category  \\\n",
       "0   0  165349.20       136897.80        471784.10    New York  Industrials   \n",
       "1   1  162597.70       151377.59        443898.53  California   Technology   \n",
       "2   2  153441.51       101145.55        407934.54     Florida   Healthcare   \n",
       "3   3  144372.41       118671.85        383199.62    New York   Financials   \n",
       "4   4  142107.34        91391.77        366168.42     Florida  Industrials   \n",
       "\n",
       "      Profit  \n",
       "0  192261.83  \n",
       "1  191792.06  \n",
       "2  191050.39  \n",
       "3  182901.99  \n",
       "4  166187.94  "
      ]
     },
     "execution_count": 5,
     "metadata": {},
     "output_type": "execute_result"
    }
   ],
   "source": [
    "# preview of the first 5 lines of the loaded Train data \n",
    "train.head()"
   ]
  },
  {
   "cell_type": "code",
   "execution_count": 6,
   "metadata": {},
   "outputs": [
    {
     "data": {
      "text/html": [
       "<div>\n",
       "<style scoped>\n",
       "    .dataframe tbody tr th:only-of-type {\n",
       "        vertical-align: middle;\n",
       "    }\n",
       "\n",
       "    .dataframe tbody tr th {\n",
       "        vertical-align: top;\n",
       "    }\n",
       "\n",
       "    .dataframe thead th {\n",
       "        text-align: right;\n",
       "    }\n",
       "</style>\n",
       "<table border=\"1\" class=\"dataframe\">\n",
       "  <thead>\n",
       "    <tr style=\"text-align: right;\">\n",
       "      <th></th>\n",
       "      <th>ID</th>\n",
       "      <th>R&amp;D Spend</th>\n",
       "      <th>Administration</th>\n",
       "      <th>Marketing Spend</th>\n",
       "      <th>State</th>\n",
       "      <th>Category</th>\n",
       "    </tr>\n",
       "  </thead>\n",
       "  <tbody>\n",
       "    <tr>\n",
       "      <th>0</th>\n",
       "      <td>0</td>\n",
       "      <td>165349.20</td>\n",
       "      <td>136897.80</td>\n",
       "      <td>471784.10</td>\n",
       "      <td>New York</td>\n",
       "      <td>Industrials</td>\n",
       "    </tr>\n",
       "    <tr>\n",
       "      <th>1</th>\n",
       "      <td>1</td>\n",
       "      <td>162597.70</td>\n",
       "      <td>151377.59</td>\n",
       "      <td>443898.53</td>\n",
       "      <td>California</td>\n",
       "      <td>Technology</td>\n",
       "    </tr>\n",
       "    <tr>\n",
       "      <th>2</th>\n",
       "      <td>2</td>\n",
       "      <td>153441.51</td>\n",
       "      <td>101145.55</td>\n",
       "      <td>407934.54</td>\n",
       "      <td>Florida</td>\n",
       "      <td>Healthcare</td>\n",
       "    </tr>\n",
       "    <tr>\n",
       "      <th>3</th>\n",
       "      <td>3</td>\n",
       "      <td>144372.41</td>\n",
       "      <td>118671.85</td>\n",
       "      <td>383199.62</td>\n",
       "      <td>New York</td>\n",
       "      <td>Financials</td>\n",
       "    </tr>\n",
       "    <tr>\n",
       "      <th>4</th>\n",
       "      <td>4</td>\n",
       "      <td>142107.34</td>\n",
       "      <td>91391.77</td>\n",
       "      <td>366168.42</td>\n",
       "      <td>Florida</td>\n",
       "      <td>Industrials</td>\n",
       "    </tr>\n",
       "  </tbody>\n",
       "</table>\n",
       "</div>"
      ],
      "text/plain": [
       "   ID  R&D Spend  Administration  Marketing Spend       State     Category\n",
       "0   0  165349.20       136897.80        471784.10    New York  Industrials\n",
       "1   1  162597.70       151377.59        443898.53  California   Technology\n",
       "2   2  153441.51       101145.55        407934.54     Florida   Healthcare\n",
       "3   3  144372.41       118671.85        383199.62    New York   Financials\n",
       "4   4  142107.34        91391.77        366168.42     Florida  Industrials"
      ]
     },
     "execution_count": 6,
     "metadata": {},
     "output_type": "execute_result"
    }
   ],
   "source": [
    "# preview of the first 5 lines of the loaded Test data \n",
    "test.head()"
   ]
  },
  {
   "cell_type": "markdown",
   "metadata": {},
   "source": [
    "* ### Observation of target variable"
   ]
  },
  {
   "cell_type": "code",
   "execution_count": 7,
   "metadata": {},
   "outputs": [
    {
     "data": {
      "text/plain": [
       "count        50.000000\n",
       "mean     112012.639200\n",
       "std       40306.180338\n",
       "min       14681.400000\n",
       "25%       90138.902500\n",
       "50%      107978.190000\n",
       "75%      139765.977500\n",
       "max      192261.830000\n",
       "Name: Profit, dtype: float64"
      ]
     },
     "execution_count": 7,
     "metadata": {},
     "output_type": "execute_result"
    }
   ],
   "source": [
    "# target variable\n",
    "train[\"Profit\"].describe()"
   ]
  },
  {
   "cell_type": "code",
   "execution_count": 8,
   "metadata": {
    "scrolled": true
   },
   "outputs": [
    {
     "name": "stderr",
     "output_type": "stream",
     "text": [
      "c:\\python\\python36\\lib\\site-packages\\seaborn\\distributions.py:2557: FutureWarning: `distplot` is a deprecated function and will be removed in a future version. Please adapt your code to use either `displot` (a figure-level function with similar flexibility) or `histplot` (an axes-level function for histograms).\n",
      "  warnings.warn(msg, FutureWarning)\n"
     ]
    },
    {
     "data": {
      "text/plain": [
       "<matplotlib.axes._subplots.AxesSubplot at 0x25936b10c50>"
      ]
     },
     "execution_count": 8,
     "metadata": {},
     "output_type": "execute_result"
    },
    {
     "data": {
      "image/png": "[encoded data removed]",
      "text/plain": [
       "<Figure size 432x288 with 1 Axes>"
      ]
     },
     "metadata": {
      "needs_background": "light"
     },
     "output_type": "display_data"
    }
   ],
   "source": [
    "# visualisation of 'Profit' distribution\n",
    "sns.distplot(train[\"Profit\"], color=\"g\")"
   ]
  },
  {
   "cell_type": "code",
   "execution_count": 9,
   "metadata": {},
   "outputs": [],
   "source": [
    "# set 'ID' to index\n",
    "train= train.set_index('ID')\n",
    "test = test.set_index('ID')"
   ]
  },
  {
   "cell_type": "markdown",
   "metadata": {},
   "source": [
    "* ### Numerical and Categorical features\n",
    "#### List of Numerical and Categorical features"
   ]
  },
  {
   "cell_type": "code",
   "execution_count": 10,
   "metadata": {
    "scrolled": true
   },
   "outputs": [
    {
     "name": "stdout",
     "output_type": "stream",
     "text": [
      "Quantity of Numerical features:  4\n",
      "\n",
      "Index(['R&D Spend', 'Administration', 'Marketing Spend', 'Profit'], dtype='object')\n",
      "\n",
      "Quantity of Categorical features:  2\n",
      "\n",
      "Index(['State', 'Category'], dtype='object')\n"
     ]
    }
   ],
   "source": [
    "# check for Numerical and Categorical features in Train\n",
    "numerical_feats_train = train.dtypes[train.dtypes != 'object'].index\n",
    "print ('Quantity of Numerical features: ', len(numerical_feats_train))\n",
    "print ()\n",
    "print (train[numerical_feats_train].columns)\n",
    "print ()\n",
    "categorical_feats_train = train.dtypes[train.dtypes == 'object'].index\n",
    "print ('Quantity of Categorical features: ', len(categorical_feats_train))\n",
    "print ()\n",
    "print (train[categorical_feats_train].columns)"
   ]
  },
  {
   "cell_type": "markdown",
   "metadata": {},
   "source": [
    "* ### Missing values"
   ]
  },
  {
   "cell_type": "markdown",
   "metadata": {},
   "source": [
    "#### List of data features with missing values"
   ]
  },
  {
   "cell_type": "code",
   "execution_count": 11,
   "metadata": {
    "scrolled": true
   },
   "outputs": [
    {
     "name": "stdout",
     "output_type": "stream",
     "text": [
      "R&D Spend          2\n",
      "Administration     0\n",
      "Marketing Spend    3\n",
      "State              0\n",
      "Category           1\n",
      "Profit             0\n",
      "dtype: int64\n",
      "\n",
      "There are 3 columns with NAN values for 50 rows.\n"
     ]
    },
    {
     "data": {
      "text/plain": [
       "['R&D Spend', 'Marketing Spend', 'Category']"
      ]
     },
     "execution_count": 11,
     "metadata": {},
     "output_type": "execute_result"
    }
   ],
   "source": [
    "# check the Train features with missing values \n",
    "nan_columns = [i for i in train.columns if train[i].isnull().any()]\n",
    "print(train.isnull().sum())\n",
    "print()\n",
    "print(\"There are \" + str(len(nan_columns)) +\" columns with NAN values for 50 rows.\")\n",
    "nan_columns"
   ]
  },
  {
   "cell_type": "code",
   "execution_count": 12,
   "metadata": {},
   "outputs": [
    {
     "name": "stdout",
     "output_type": "stream",
     "text": [
      "R&D Spend          2\n",
      "Administration     2\n",
      "Marketing Spend    0\n",
      "State              1\n",
      "Category           0\n",
      "dtype: int64\n",
      "\n",
      "There are 3 columns with NAN values for 50 rows.\n"
     ]
    },
    {
     "data": {
      "text/plain": [
       "['R&D Spend', 'Administration', 'State']"
      ]
     },
     "execution_count": 12,
     "metadata": {},
     "output_type": "execute_result"
    }
   ],
   "source": [
    "# check the Test features with missing values\n",
    "# check the Test features with missing values\n",
    "nan_columns = [i for i in test.columns if test[i].isnull().any()]\n",
    "print(test.isnull().sum())\n",
    "print()\n",
    "print(\"There are \" + str(len(nan_columns)) +\" columns with NAN values for 50 rows.\")\n",
    "nan_columns"
   ]
  },
  {
   "cell_type": "markdown",
   "metadata": {},
   "source": [
    "#### Filling missing values"
   ]
  },
  {
   "cell_type": "markdown",
   "metadata": {},
   "source": [
    "Fields where NAN values have meaning.\n",
    "\n",
    "Explaining in further depth:\n",
    "\n",
    "* 'R&D Spend': Numerical - replacement of NAN by 'mean';\n",
    "* 'Administration': Numerical - replacement of NAN by 'mean';\n",
    "* 'Marketing Spend': Numerical - replacement of NAN by 'mean';\n",
    "* 'State': Categorical - replacement of NAN by 'None';\n",
    "* 'Category': Categorical - replacement of NAN by 'None'."
   ]
  },
  {
   "cell_type": "code",
   "execution_count": 13,
   "metadata": {},
   "outputs": [],
   "source": [
    " # Numerical NAN columns to fill in Train and Test datasets\n",
    "nan_columns_fill = [\n",
    "    'R&D Spend',\n",
    "    'Administration',\n",
    "    'Marketing Spend'\n",
    "    ]\n",
    "\n",
    "# replace 'NAN' with 'mean' in these columns\n",
    "train.fillna(train.mean(), inplace = True)  \n",
    "test.fillna(test.mean(), inplace = True)\n",
    "\n",
    "\n",
    "# Categorical NAN columns to fill in Train and Test datasets\n",
    "na_columns_fill = [\n",
    "    'State', \n",
    "    'Category'\n",
    "    ]\n",
    "\n",
    "# replace 'NAN' with 'None' in these columns\n",
    "for col in na_columns_fill:\n",
    "    train[col].fillna('None', inplace=True)\n",
    "    test[col].fillna('None', inplace=True)"
   ]
  },
  {
   "cell_type": "code",
   "execution_count": 14,
   "metadata": {},
   "outputs": [
    {
     "data": {
      "text/plain": [
       "0"
      ]
     },
     "execution_count": 14,
     "metadata": {},
     "output_type": "execute_result"
    }
   ],
   "source": [
    "# check is there any mising values left in Train\n",
    "train.isnull().sum().sum()"
   ]
  },
  {
   "cell_type": "code",
   "execution_count": 15,
   "metadata": {},
   "outputs": [
    {
     "data": {
      "text/plain": [
       "0"
      ]
     },
     "execution_count": 15,
     "metadata": {},
     "output_type": "execute_result"
    }
   ],
   "source": [
    "# check is there any mising values left in Test\n",
    "test.isnull().sum().sum()"
   ]
  },
  {
   "cell_type": "markdown",
   "metadata": {},
   "source": [
    "#### Visualisation  of Numerical features (regplot)"
   ]
  },
  {
   "cell_type": "code",
   "execution_count": 16,
   "metadata": {},
   "outputs": [
    {
     "name": "stderr",
     "output_type": "stream",
     "text": [
      "c:\\python\\python36\\lib\\site-packages\\seaborn\\_decorators.py:43: FutureWarning: Pass the following variables as keyword args: x, y. From version 0.12, the only valid positional argument will be `data`, and passing other arguments without an explicit keyword will result in an error or misinterpretation.\n",
      "  FutureWarning\n"
     ]
    },
    {
     "data": {
      "image/png": "[encoded data removed]",
      "text/plain": [
       "<Figure size 504x432 with 4 Axes>"
      ]
     },
     "metadata": {
      "needs_background": "light"
     },
     "output_type": "display_data"
    }
   ],
   "source": [
    "# numerical features visualisation\n",
    "nr_rows = 2\n",
    "nr_cols = 2\n",
    "\n",
    "fig, axs = plt.subplots(nr_rows, nr_cols, figsize=(nr_cols*3.5,nr_rows*3))\n",
    "\n",
    "num_feats = list(numerical_feats_train)\n",
    "not_plot = ['Id',  'Profit']\n",
    "plot_num_feats = [c for c in list(numerical_feats_train) if c not in not_plot]\n",
    "\n",
    "\n",
    "for r in range(0,nr_rows):\n",
    "    for c in range(0,nr_cols):  \n",
    "        i = r*nr_cols + c\n",
    "        if i < len(plot_num_feats):\n",
    "            sns.regplot(train[plot_num_feats[i]], train['Profit'], ax = axs[r][c], color = \"#5081ac\" )\n",
    "            stp = stats.pearsonr(train[plot_num_feats[i]], train['Profit'])\n",
    "          \n",
    "            str_title = \"r = \" + \"{0:.2f}\".format(stp[0]) + \"      \" \"p = \" + \"{0:.2f}\".format(stp[1])\n",
    "            axs[r][c].set_title(str_title, fontsize=11)\n",
    "\n",
    "\n",
    "\n",
    "plt.tight_layout()    \n",
    "plt.show()"
   ]
  },
  {
   "cell_type": "code",
   "execution_count": 17,
   "metadata": {
    "scrolled": true
   },
   "outputs": [
    {
     "data": {
      "text/plain": [
       "<matplotlib.axes._subplots.AxesSubplot at 0x2593ad64f98>"
      ]
     },
     "execution_count": 17,
     "metadata": {},
     "output_type": "execute_result"
    },
    {
     "data": {
      "image/png": "[encoded data removed]",
      "text/plain": [
       "<Figure size 432x288 with 1 Axes>"
      ]
     },
     "metadata": {
      "needs_background": "light"
     },
     "output_type": "display_data"
    }
   ],
   "source": [
    "# categorical features visualisation\n",
    "# 'Profit' split in 'State' level\n",
    "sns.barplot(x = 'State', y = 'Profit', data = train, palette = \"Blues_d\")"
   ]
  },
  {
   "cell_type": "code",
   "execution_count": 18,
   "metadata": {
    "scrolled": false
   },
   "outputs": [
    {
     "data": {
      "text/plain": [
       "(array([0, 1, 2, 3, 4, 5, 6]), <a list of 7 Text xticklabel objects>)"
      ]
     },
     "execution_count": 18,
     "metadata": {},
     "output_type": "execute_result"
    },
    {
     "data": {
      "image/png": "[encoded data removed]",
      "text/plain": [
       "<Figure size 432x288 with 1 Axes>"
      ]
     },
     "metadata": {
      "needs_background": "light"
     },
     "output_type": "display_data"
    }
   ],
   "source": [
    "# categorical features visualisation\n",
    "# 'Profit' split in 'Category' level\n",
    "sns.barplot(x = 'Category', y = 'Profit', data = train, palette = \"Blues_d\")\n",
    "plt.xticks(rotation=90)"
   ]
  },
  {
   "cell_type": "markdown",
   "metadata": {},
   "source": [
    "## Part 3: Data Wrangling and Transformation."
   ]
  },
  {
   "cell_type": "markdown",
   "metadata": {},
   "source": [
    "* ### One-Hot Encoding"
   ]
  },
  {
   "cell_type": "code",
   "execution_count": 19,
   "metadata": {},
   "outputs": [],
   "source": [
    "# One-Hot Encoding Train dataset\n",
    "train = pd.get_dummies(train,columns=['State', 'Category'])\n",
    "\n",
    "# Drop target variable \n",
    "train = train.drop(columns=['Profit'])\n"
   ]
  },
  {
   "cell_type": "code",
   "execution_count": 20,
   "metadata": {},
   "outputs": [
    {
     "data": {
      "text/html": [
       "<div>\n",
       "<style scoped>\n",
       "    .dataframe tbody tr th:only-of-type {\n",
       "        vertical-align: middle;\n",
       "    }\n",
       "\n",
       "    .dataframe tbody tr th {\n",
       "        vertical-align: top;\n",
       "    }\n",
       "\n",
       "    .dataframe thead th {\n",
       "        text-align: right;\n",
       "    }\n",
       "</style>\n",
       "<table border=\"1\" class=\"dataframe\">\n",
       "  <thead>\n",
       "    <tr style=\"text-align: right;\">\n",
       "      <th></th>\n",
       "      <th>R&amp;D Spend</th>\n",
       "      <th>Administration</th>\n",
       "      <th>Marketing Spend</th>\n",
       "      <th>State_California</th>\n",
       "      <th>State_Florida</th>\n",
       "      <th>State_New York</th>\n",
       "      <th>Category_Financials</th>\n",
       "      <th>Category_Healthcare</th>\n",
       "      <th>Category_Industrials</th>\n",
       "      <th>Category_None</th>\n",
       "      <th>Category_Oil &amp; Gas</th>\n",
       "      <th>Category_Technology</th>\n",
       "      <th>Category_Telecommunications</th>\n",
       "    </tr>\n",
       "    <tr>\n",
       "      <th>ID</th>\n",
       "      <th></th>\n",
       "      <th></th>\n",
       "      <th></th>\n",
       "      <th></th>\n",
       "      <th></th>\n",
       "      <th></th>\n",
       "      <th></th>\n",
       "      <th></th>\n",
       "      <th></th>\n",
       "      <th></th>\n",
       "      <th></th>\n",
       "      <th></th>\n",
       "      <th></th>\n",
       "    </tr>\n",
       "  </thead>\n",
       "  <tbody>\n",
       "    <tr>\n",
       "      <th>0</th>\n",
       "      <td>165349.20</td>\n",
       "      <td>136897.80</td>\n",
       "      <td>471784.10</td>\n",
       "      <td>0</td>\n",
       "      <td>0</td>\n",
       "      <td>1</td>\n",
       "      <td>0</td>\n",
       "      <td>0</td>\n",
       "      <td>1</td>\n",
       "      <td>0</td>\n",
       "      <td>0</td>\n",
       "      <td>0</td>\n",
       "      <td>0</td>\n",
       "    </tr>\n",
       "    <tr>\n",
       "      <th>1</th>\n",
       "      <td>162597.70</td>\n",
       "      <td>151377.59</td>\n",
       "      <td>443898.53</td>\n",
       "      <td>1</td>\n",
       "      <td>0</td>\n",
       "      <td>0</td>\n",
       "      <td>0</td>\n",
       "      <td>0</td>\n",
       "      <td>0</td>\n",
       "      <td>0</td>\n",
       "      <td>0</td>\n",
       "      <td>1</td>\n",
       "      <td>0</td>\n",
       "    </tr>\n",
       "    <tr>\n",
       "      <th>2</th>\n",
       "      <td>153441.51</td>\n",
       "      <td>101145.55</td>\n",
       "      <td>407934.54</td>\n",
       "      <td>0</td>\n",
       "      <td>1</td>\n",
       "      <td>0</td>\n",
       "      <td>0</td>\n",
       "      <td>1</td>\n",
       "      <td>0</td>\n",
       "      <td>0</td>\n",
       "      <td>0</td>\n",
       "      <td>0</td>\n",
       "      <td>0</td>\n",
       "    </tr>\n",
       "    <tr>\n",
       "      <th>3</th>\n",
       "      <td>144372.41</td>\n",
       "      <td>118671.85</td>\n",
       "      <td>383199.62</td>\n",
       "      <td>0</td>\n",
       "      <td>0</td>\n",
       "      <td>1</td>\n",
       "      <td>1</td>\n",
       "      <td>0</td>\n",
       "      <td>0</td>\n",
       "      <td>0</td>\n",
       "      <td>0</td>\n",
       "      <td>0</td>\n",
       "      <td>0</td>\n",
       "    </tr>\n",
       "    <tr>\n",
       "      <th>4</th>\n",
       "      <td>142107.34</td>\n",
       "      <td>91391.77</td>\n",
       "      <td>366168.42</td>\n",
       "      <td>0</td>\n",
       "      <td>1</td>\n",
       "      <td>0</td>\n",
       "      <td>0</td>\n",
       "      <td>0</td>\n",
       "      <td>1</td>\n",
       "      <td>0</td>\n",
       "      <td>0</td>\n",
       "      <td>0</td>\n",
       "      <td>0</td>\n",
       "    </tr>\n",
       "  </tbody>\n",
       "</table>\n",
       "</div>"
      ],
      "text/plain": [
       "    R&D Spend  Administration  Marketing Spend  State_California  \\\n",
       "ID                                                                 \n",
       "0   165349.20       136897.80        471784.10                 0   \n",
       "1   162597.70       151377.59        443898.53                 1   \n",
       "2   153441.51       101145.55        407934.54                 0   \n",
       "3   144372.41       118671.85        383199.62                 0   \n",
       "4   142107.34        91391.77        366168.42                 0   \n",
       "\n",
       "    State_Florida  State_New York  Category_Financials  Category_Healthcare  \\\n",
       "ID                                                                            \n",
       "0               0               1                    0                    0   \n",
       "1               0               0                    0                    0   \n",
       "2               1               0                    0                    1   \n",
       "3               0               1                    1                    0   \n",
       "4               1               0                    0                    0   \n",
       "\n",
       "    Category_Industrials  Category_None  Category_Oil & Gas  \\\n",
       "ID                                                            \n",
       "0                      1              0                   0   \n",
       "1                      0              0                   0   \n",
       "2                      0              0                   0   \n",
       "3                      0              0                   0   \n",
       "4                      1              0                   0   \n",
       "\n",
       "    Category_Technology  Category_Telecommunications  \n",
       "ID                                                    \n",
       "0                     0                            0  \n",
       "1                     1                            0  \n",
       "2                     0                            0  \n",
       "3                     0                            0  \n",
       "4                     0                            0  "
      ]
     },
     "execution_count": 20,
     "metadata": {},
     "output_type": "execute_result"
    }
   ],
   "source": [
    "# preview of the first 5 lines of the loaded Train data \n",
    "train.head()"
   ]
  },
  {
   "cell_type": "code",
   "execution_count": 21,
   "metadata": {},
   "outputs": [
    {
     "data": {
      "text/plain": [
       "(50, 13)"
      ]
     },
     "execution_count": 21,
     "metadata": {},
     "output_type": "execute_result"
    }
   ],
   "source": [
    "# Train data shape\n",
    "train.shape"
   ]
  },
  {
   "cell_type": "code",
   "execution_count": 22,
   "metadata": {},
   "outputs": [],
   "source": [
    "# One Hot-Encoding Test dataset\n",
    "test = pd.get_dummies(test, columns=[\"State\", \"Category\"])"
   ]
  },
  {
   "cell_type": "code",
   "execution_count": 23,
   "metadata": {
    "scrolled": true
   },
   "outputs": [
    {
     "data": {
      "text/html": [
       "<div>\n",
       "<style scoped>\n",
       "    .dataframe tbody tr th:only-of-type {\n",
       "        vertical-align: middle;\n",
       "    }\n",
       "\n",
       "    .dataframe tbody tr th {\n",
       "        vertical-align: top;\n",
       "    }\n",
       "\n",
       "    .dataframe thead th {\n",
       "        text-align: right;\n",
       "    }\n",
       "</style>\n",
       "<table border=\"1\" class=\"dataframe\">\n",
       "  <thead>\n",
       "    <tr style=\"text-align: right;\">\n",
       "      <th></th>\n",
       "      <th>R&amp;D Spend</th>\n",
       "      <th>Administration</th>\n",
       "      <th>Marketing Spend</th>\n",
       "      <th>State_California</th>\n",
       "      <th>State_Florida</th>\n",
       "      <th>State_New York</th>\n",
       "      <th>State_None</th>\n",
       "      <th>Category_Financials</th>\n",
       "      <th>Category_Healthcare</th>\n",
       "      <th>Category_Industrials</th>\n",
       "      <th>Category_Oil &amp; Gas</th>\n",
       "      <th>Category_Technology</th>\n",
       "      <th>Category_Telecommunications</th>\n",
       "    </tr>\n",
       "    <tr>\n",
       "      <th>ID</th>\n",
       "      <th></th>\n",
       "      <th></th>\n",
       "      <th></th>\n",
       "      <th></th>\n",
       "      <th></th>\n",
       "      <th></th>\n",
       "      <th></th>\n",
       "      <th></th>\n",
       "      <th></th>\n",
       "      <th></th>\n",
       "      <th></th>\n",
       "      <th></th>\n",
       "      <th></th>\n",
       "    </tr>\n",
       "  </thead>\n",
       "  <tbody>\n",
       "    <tr>\n",
       "      <th>0</th>\n",
       "      <td>165349.20</td>\n",
       "      <td>136897.80</td>\n",
       "      <td>471784.10</td>\n",
       "      <td>0</td>\n",
       "      <td>0</td>\n",
       "      <td>1</td>\n",
       "      <td>0</td>\n",
       "      <td>0</td>\n",
       "      <td>0</td>\n",
       "      <td>1</td>\n",
       "      <td>0</td>\n",
       "      <td>0</td>\n",
       "      <td>0</td>\n",
       "    </tr>\n",
       "    <tr>\n",
       "      <th>1</th>\n",
       "      <td>162597.70</td>\n",
       "      <td>151377.59</td>\n",
       "      <td>443898.53</td>\n",
       "      <td>1</td>\n",
       "      <td>0</td>\n",
       "      <td>0</td>\n",
       "      <td>0</td>\n",
       "      <td>0</td>\n",
       "      <td>0</td>\n",
       "      <td>0</td>\n",
       "      <td>0</td>\n",
       "      <td>1</td>\n",
       "      <td>0</td>\n",
       "    </tr>\n",
       "    <tr>\n",
       "      <th>2</th>\n",
       "      <td>153441.51</td>\n",
       "      <td>101145.55</td>\n",
       "      <td>407934.54</td>\n",
       "      <td>0</td>\n",
       "      <td>1</td>\n",
       "      <td>0</td>\n",
       "      <td>0</td>\n",
       "      <td>0</td>\n",
       "      <td>1</td>\n",
       "      <td>0</td>\n",
       "      <td>0</td>\n",
       "      <td>0</td>\n",
       "      <td>0</td>\n",
       "    </tr>\n",
       "    <tr>\n",
       "      <th>3</th>\n",
       "      <td>144372.41</td>\n",
       "      <td>118671.85</td>\n",
       "      <td>383199.62</td>\n",
       "      <td>0</td>\n",
       "      <td>0</td>\n",
       "      <td>1</td>\n",
       "      <td>0</td>\n",
       "      <td>1</td>\n",
       "      <td>0</td>\n",
       "      <td>0</td>\n",
       "      <td>0</td>\n",
       "      <td>0</td>\n",
       "      <td>0</td>\n",
       "    </tr>\n",
       "    <tr>\n",
       "      <th>4</th>\n",
       "      <td>142107.34</td>\n",
       "      <td>91391.77</td>\n",
       "      <td>366168.42</td>\n",
       "      <td>0</td>\n",
       "      <td>1</td>\n",
       "      <td>0</td>\n",
       "      <td>0</td>\n",
       "      <td>0</td>\n",
       "      <td>0</td>\n",
       "      <td>1</td>\n",
       "      <td>0</td>\n",
       "      <td>0</td>\n",
       "      <td>0</td>\n",
       "    </tr>\n",
       "  </tbody>\n",
       "</table>\n",
       "</div>"
      ],
      "text/plain": [
       "    R&D Spend  Administration  Marketing Spend  State_California  \\\n",
       "ID                                                                 \n",
       "0   165349.20       136897.80        471784.10                 0   \n",
       "1   162597.70       151377.59        443898.53                 1   \n",
       "2   153441.51       101145.55        407934.54                 0   \n",
       "3   144372.41       118671.85        383199.62                 0   \n",
       "4   142107.34        91391.77        366168.42                 0   \n",
       "\n",
       "    State_Florida  State_New York  State_None  Category_Financials  \\\n",
       "ID                                                                   \n",
       "0               0               1           0                    0   \n",
       "1               0               0           0                    0   \n",
       "2               1               0           0                    0   \n",
       "3               0               1           0                    1   \n",
       "4               1               0           0                    0   \n",
       "\n",
       "    Category_Healthcare  Category_Industrials  Category_Oil & Gas  \\\n",
       "ID                                                                  \n",
       "0                     0                     1                   0   \n",
       "1                     0                     0                   0   \n",
       "2                     1                     0                   0   \n",
       "3                     0                     0                   0   \n",
       "4                     0                     1                   0   \n",
       "\n",
       "    Category_Technology  Category_Telecommunications  \n",
       "ID                                                    \n",
       "0                     0                            0  \n",
       "1                     1                            0  \n",
       "2                     0                            0  \n",
       "3                     0                            0  \n",
       "4                     0                            0  "
      ]
     },
     "execution_count": 23,
     "metadata": {},
     "output_type": "execute_result"
    }
   ],
   "source": [
    "# preview of the first 5 lines of the loaded Test data \n",
    "test.head()"
   ]
  },
  {
   "cell_type": "code",
   "execution_count": 24,
   "metadata": {},
   "outputs": [
    {
     "data": {
      "text/plain": [
       "(50, 13)"
      ]
     },
     "execution_count": 24,
     "metadata": {},
     "output_type": "execute_result"
    }
   ],
   "source": [
    "# Test data shape\n",
    "test.shape"
   ]
  },
  {
   "cell_type": "code",
   "execution_count": 40,
   "metadata": {},
   "outputs": [],
   "source": [
    "# Drop unnecessary variables \n",
    "train = train.drop(columns = [\"Category_None\"])\n",
    "test = test.drop(columns=[\"State_None\"])"
   ]
  },
  {
   "cell_type": "markdown",
   "metadata": {},
   "source": [
    "* ### StandardScaler"
   ]
  },
  {
   "cell_type": "code",
   "execution_count": 49,
   "metadata": {},
   "outputs": [
    {
     "name": "stderr",
     "output_type": "stream",
     "text": [
      "c:\\python\\python36\\lib\\site-packages\\sklearn\\preprocessing\\data.py:645: DataConversionWarning: Data with input dtype uint8, float64 were all converted to float64 by StandardScaler.\n",
      "  return self.partial_fit(X, y)\n",
      "c:\\python\\python36\\lib\\site-packages\\sklearn\\base.py:464: DataConversionWarning: Data with input dtype uint8, float64 were all converted to float64 by StandardScaler.\n",
      "  return self.fit(X, **fit_params).transform(X)\n",
      "c:\\python\\python36\\lib\\site-packages\\sklearn\\preprocessing\\data.py:645: DataConversionWarning: Data with input dtype uint8, float64 were all converted to float64 by StandardScaler.\n",
      "  return self.partial_fit(X, y)\n",
      "c:\\python\\python36\\lib\\site-packages\\sklearn\\base.py:464: DataConversionWarning: Data with input dtype uint8, float64 were all converted to float64 by StandardScaler.\n",
      "  return self.fit(X, **fit_params).transform(X)\n"
     ]
    }
   ],
   "source": [
    "#from sklearn.preprocessing import StandardScaler\n",
    "sc = StandardScaler()\n",
    "sc_train = sc.fit_transform(train)\n",
    "sc_test = sc.fit_transform(test)"
   ]
  },
  {
   "cell_type": "code",
   "execution_count": 50,
   "metadata": {},
   "outputs": [
    {
     "data": {
      "text/html": [
       "<div>\n",
       "<style scoped>\n",
       "    .dataframe tbody tr th:only-of-type {\n",
       "        vertical-align: middle;\n",
       "    }\n",
       "\n",
       "    .dataframe tbody tr th {\n",
       "        vertical-align: top;\n",
       "    }\n",
       "\n",
       "    .dataframe thead th {\n",
       "        text-align: right;\n",
       "    }\n",
       "</style>\n",
       "<table border=\"1\" class=\"dataframe\">\n",
       "  <thead>\n",
       "    <tr style=\"text-align: right;\">\n",
       "      <th></th>\n",
       "      <th>0</th>\n",
       "      <th>1</th>\n",
       "      <th>2</th>\n",
       "      <th>3</th>\n",
       "      <th>4</th>\n",
       "      <th>5</th>\n",
       "      <th>6</th>\n",
       "      <th>7</th>\n",
       "      <th>8</th>\n",
       "      <th>9</th>\n",
       "      <th>10</th>\n",
       "      <th>11</th>\n",
       "      <th>12</th>\n",
       "    </tr>\n",
       "  </thead>\n",
       "  <tbody>\n",
       "    <tr>\n",
       "      <th>0</th>\n",
       "      <td>2.065354</td>\n",
       "      <td>0.560753</td>\n",
       "      <td>2.275193</td>\n",
       "      <td>-0.717741</td>\n",
       "      <td>-0.685994</td>\n",
       "      <td>1.393261</td>\n",
       "      <td>-0.369274</td>\n",
       "      <td>-0.531085</td>\n",
       "      <td>3.000000</td>\n",
       "      <td>-0.142857</td>\n",
       "      <td>-0.142857</td>\n",
       "      <td>-0.886405</td>\n",
       "      <td>-0.294884</td>\n",
       "    </tr>\n",
       "    <tr>\n",
       "      <th>1</th>\n",
       "      <td>2.001182</td>\n",
       "      <td>1.082807</td>\n",
       "      <td>2.018631</td>\n",
       "      <td>1.393261</td>\n",
       "      <td>-0.685994</td>\n",
       "      <td>-0.717741</td>\n",
       "      <td>-0.369274</td>\n",
       "      <td>-0.531085</td>\n",
       "      <td>-0.333333</td>\n",
       "      <td>-0.142857</td>\n",
       "      <td>-0.142857</td>\n",
       "      <td>1.128152</td>\n",
       "      <td>-0.294884</td>\n",
       "    </tr>\n",
       "    <tr>\n",
       "      <th>2</th>\n",
       "      <td>1.787635</td>\n",
       "      <td>-0.728257</td>\n",
       "      <td>1.687743</td>\n",
       "      <td>-0.717741</td>\n",
       "      <td>1.457738</td>\n",
       "      <td>-0.717741</td>\n",
       "      <td>-0.369274</td>\n",
       "      <td>1.882938</td>\n",
       "      <td>-0.333333</td>\n",
       "      <td>-0.142857</td>\n",
       "      <td>-0.142857</td>\n",
       "      <td>-0.886405</td>\n",
       "      <td>-0.294884</td>\n",
       "    </tr>\n",
       "    <tr>\n",
       "      <th>3</th>\n",
       "      <td>1.576120</td>\n",
       "      <td>-0.096365</td>\n",
       "      <td>1.460169</td>\n",
       "      <td>-0.717741</td>\n",
       "      <td>-0.685994</td>\n",
       "      <td>1.393261</td>\n",
       "      <td>2.708013</td>\n",
       "      <td>-0.531085</td>\n",
       "      <td>-0.333333</td>\n",
       "      <td>-0.142857</td>\n",
       "      <td>-0.142857</td>\n",
       "      <td>-0.886405</td>\n",
       "      <td>-0.294884</td>\n",
       "    </tr>\n",
       "    <tr>\n",
       "      <th>4</th>\n",
       "      <td>1.523293</td>\n",
       "      <td>-1.079919</td>\n",
       "      <td>1.303473</td>\n",
       "      <td>-0.717741</td>\n",
       "      <td>1.457738</td>\n",
       "      <td>-0.717741</td>\n",
       "      <td>-0.369274</td>\n",
       "      <td>-0.531085</td>\n",
       "      <td>3.000000</td>\n",
       "      <td>-0.142857</td>\n",
       "      <td>-0.142857</td>\n",
       "      <td>-0.886405</td>\n",
       "      <td>-0.294884</td>\n",
       "    </tr>\n",
       "  </tbody>\n",
       "</table>\n",
       "</div>"
      ],
      "text/plain": [
       "         0         1         2         3         4         5         6   \\\n",
       "0  2.065354  0.560753  2.275193 -0.717741 -0.685994  1.393261 -0.369274   \n",
       "1  2.001182  1.082807  2.018631  1.393261 -0.685994 -0.717741 -0.369274   \n",
       "2  1.787635 -0.728257  1.687743 -0.717741  1.457738 -0.717741 -0.369274   \n",
       "3  1.576120 -0.096365  1.460169 -0.717741 -0.685994  1.393261  2.708013   \n",
       "4  1.523293 -1.079919  1.303473 -0.717741  1.457738 -0.717741 -0.369274   \n",
       "\n",
       "         7         8         9         10        11        12  \n",
       "0 -0.531085  3.000000 -0.142857 -0.142857 -0.886405 -0.294884  \n",
       "1 -0.531085 -0.333333 -0.142857 -0.142857  1.128152 -0.294884  \n",
       "2  1.882938 -0.333333 -0.142857 -0.142857 -0.886405 -0.294884  \n",
       "3 -0.531085 -0.333333 -0.142857 -0.142857 -0.886405 -0.294884  \n",
       "4 -0.531085  3.000000 -0.142857 -0.142857 -0.886405 -0.294884  "
      ]
     },
     "execution_count": 50,
     "metadata": {},
     "output_type": "execute_result"
    }
   ],
   "source": [
    "sc_train = pd.DataFrame(sc_train)\n",
    "sc_train.head()"
   ]
  },
  {
   "cell_type": "code",
   "execution_count": 51,
   "metadata": {},
   "outputs": [
    {
     "data": {
      "text/html": [
       "<div>\n",
       "<style scoped>\n",
       "    .dataframe tbody tr th:only-of-type {\n",
       "        vertical-align: middle;\n",
       "    }\n",
       "\n",
       "    .dataframe tbody tr th {\n",
       "        vertical-align: top;\n",
       "    }\n",
       "\n",
       "    .dataframe thead th {\n",
       "        text-align: right;\n",
       "    }\n",
       "</style>\n",
       "<table border=\"1\" class=\"dataframe\">\n",
       "  <thead>\n",
       "    <tr style=\"text-align: right;\">\n",
       "      <th></th>\n",
       "      <th>0</th>\n",
       "      <th>1</th>\n",
       "      <th>2</th>\n",
       "      <th>3</th>\n",
       "      <th>4</th>\n",
       "      <th>5</th>\n",
       "      <th>6</th>\n",
       "      <th>7</th>\n",
       "      <th>8</th>\n",
       "      <th>9</th>\n",
       "      <th>10</th>\n",
       "      <th>11</th>\n",
       "      <th>12</th>\n",
       "    </tr>\n",
       "  </thead>\n",
       "  <tbody>\n",
       "    <tr>\n",
       "      <th>0</th>\n",
       "      <td>2.065354</td>\n",
       "      <td>0.537398</td>\n",
       "      <td>2.207176</td>\n",
       "      <td>-0.717741</td>\n",
       "      <td>-0.654654</td>\n",
       "      <td>1.393261</td>\n",
       "      <td>-0.142857</td>\n",
       "      <td>-0.369274</td>\n",
       "      <td>-0.531085</td>\n",
       "      <td>3.000000</td>\n",
       "      <td>-0.142857</td>\n",
       "      <td>-0.922958</td>\n",
       "      <td>-0.294884</td>\n",
       "    </tr>\n",
       "    <tr>\n",
       "      <th>1</th>\n",
       "      <td>2.001182</td>\n",
       "      <td>1.098439</td>\n",
       "      <td>1.957976</td>\n",
       "      <td>1.393261</td>\n",
       "      <td>-0.654654</td>\n",
       "      <td>-0.717741</td>\n",
       "      <td>-0.142857</td>\n",
       "      <td>-0.369274</td>\n",
       "      <td>-0.531085</td>\n",
       "      <td>-0.333333</td>\n",
       "      <td>-0.142857</td>\n",
       "      <td>1.083473</td>\n",
       "      <td>-0.294884</td>\n",
       "    </tr>\n",
       "    <tr>\n",
       "      <th>2</th>\n",
       "      <td>1.787635</td>\n",
       "      <td>-0.847877</td>\n",
       "      <td>1.636584</td>\n",
       "      <td>-0.717741</td>\n",
       "      <td>1.527525</td>\n",
       "      <td>-0.717741</td>\n",
       "      <td>-0.142857</td>\n",
       "      <td>-0.369274</td>\n",
       "      <td>1.882938</td>\n",
       "      <td>-0.333333</td>\n",
       "      <td>-0.142857</td>\n",
       "      <td>-0.922958</td>\n",
       "      <td>-0.294884</td>\n",
       "    </tr>\n",
       "    <tr>\n",
       "      <th>3</th>\n",
       "      <td>1.576120</td>\n",
       "      <td>-0.168794</td>\n",
       "      <td>1.415541</td>\n",
       "      <td>-0.717741</td>\n",
       "      <td>-0.654654</td>\n",
       "      <td>1.393261</td>\n",
       "      <td>-0.142857</td>\n",
       "      <td>2.708013</td>\n",
       "      <td>-0.531085</td>\n",
       "      <td>-0.333333</td>\n",
       "      <td>-0.142857</td>\n",
       "      <td>-0.922958</td>\n",
       "      <td>-0.294884</td>\n",
       "    </tr>\n",
       "    <tr>\n",
       "      <th>4</th>\n",
       "      <td>1.523293</td>\n",
       "      <td>-1.225803</td>\n",
       "      <td>1.263342</td>\n",
       "      <td>-0.717741</td>\n",
       "      <td>1.527525</td>\n",
       "      <td>-0.717741</td>\n",
       "      <td>-0.142857</td>\n",
       "      <td>-0.369274</td>\n",
       "      <td>-0.531085</td>\n",
       "      <td>3.000000</td>\n",
       "      <td>-0.142857</td>\n",
       "      <td>-0.922958</td>\n",
       "      <td>-0.294884</td>\n",
       "    </tr>\n",
       "  </tbody>\n",
       "</table>\n",
       "</div>"
      ],
      "text/plain": [
       "         0         1         2         3         4         5         6   \\\n",
       "0  2.065354  0.537398  2.207176 -0.717741 -0.654654  1.393261 -0.142857   \n",
       "1  2.001182  1.098439  1.957976  1.393261 -0.654654 -0.717741 -0.142857   \n",
       "2  1.787635 -0.847877  1.636584 -0.717741  1.527525 -0.717741 -0.142857   \n",
       "3  1.576120 -0.168794  1.415541 -0.717741 -0.654654  1.393261 -0.142857   \n",
       "4  1.523293 -1.225803  1.263342 -0.717741  1.527525 -0.717741 -0.142857   \n",
       "\n",
       "         7         8         9         10        11        12  \n",
       "0 -0.369274 -0.531085  3.000000 -0.142857 -0.922958 -0.294884  \n",
       "1 -0.369274 -0.531085 -0.333333 -0.142857  1.083473 -0.294884  \n",
       "2 -0.369274  1.882938 -0.333333 -0.142857 -0.922958 -0.294884  \n",
       "3  2.708013 -0.531085 -0.333333 -0.142857 -0.922958 -0.294884  \n",
       "4 -0.369274 -0.531085  3.000000 -0.142857 -0.922958 -0.294884  "
      ]
     },
     "execution_count": 51,
     "metadata": {},
     "output_type": "execute_result"
    }
   ],
   "source": [
    "sc_test = pd.DataFrame(sc_test)\n",
    "sc_test.head()"
   ]
  },
  {
   "cell_type": "markdown",
   "metadata": {},
   "source": [
    "* ### Creating datasets for ML part"
   ]
  },
  {
   "cell_type": "code",
   "execution_count": 52,
   "metadata": {},
   "outputs": [],
   "source": [
    "# set 'X' for features of scaled Train dataset 'sc_train'\n",
    "X = sc_train\n",
    "\n",
    "# set 'y' for the target 'Profit'\n",
    "y = target\n",
    "\n",
    "# 'X_Test' for features of scaled Test dataset 'sc_test'\n",
    "X_Test = sc_test"
   ]
  },
  {
   "cell_type": "code",
   "execution_count": 25,
   "metadata": {},
   "outputs": [],
   "source": [
    "# set 'X' for features of scaled Train dataset 'train'\n",
    "#X = train\n",
    "\n",
    "# set 'y' for the target 'Profit'\n",
    "#y = target\n",
    "\n",
    "# 'X_Test' for features of scaled Test dataset 'test'\n",
    "#X_Test = test"
   ]
  },
  {
   "cell_type": "markdown",
   "metadata": {},
   "source": [
    "* ### 'Train\\Test' split"
   ]
  },
  {
   "cell_type": "code",
   "execution_count": 53,
   "metadata": {},
   "outputs": [],
   "source": [
    "from sklearn.model_selection import train_test_split"
   ]
  },
  {
   "cell_type": "code",
   "execution_count": 54,
   "metadata": {},
   "outputs": [],
   "source": [
    "X_train, X_test, y_train, y_test = train_test_split(X, y, test_size=0.30, random_state=0)"
   ]
  },
  {
   "cell_type": "code",
   "execution_count": 55,
   "metadata": {},
   "outputs": [
    {
     "data": {
      "text/plain": [
       "(35, 13)"
      ]
     },
     "execution_count": 55,
     "metadata": {},
     "output_type": "execute_result"
    }
   ],
   "source": [
    "X_train.shape"
   ]
  },
  {
   "cell_type": "code",
   "execution_count": 56,
   "metadata": {},
   "outputs": [
    {
     "data": {
      "text/plain": [
       "(15, 13)"
      ]
     },
     "execution_count": 56,
     "metadata": {},
     "output_type": "execute_result"
    }
   ],
   "source": [
    "X_test.shape"
   ]
  },
  {
   "cell_type": "markdown",
   "metadata": {},
   "source": [
    "## Part 4: Machine Learning."
   ]
  },
  {
   "cell_type": "markdown",
   "metadata": {},
   "source": [
    "* ### Build, train, evaluate and visualise models"
   ]
  },
  {
   "cell_type": "markdown",
   "metadata": {},
   "source": [
    "* #### Linear Regression"
   ]
  },
  {
   "cell_type": "code",
   "execution_count": 57,
   "metadata": {
    "scrolled": true
   },
   "outputs": [
    {
     "data": {
      "text/plain": [
       "array([ 98805.75002446, 120582.06246646, 137745.21283983,  79034.09403155,\n",
       "       188946.03574103, 118622.88055624,  72254.79066   ,  67164.69815167,\n",
       "       128666.63674181, 142782.3087556 ,  91593.10175464,  80612.80343627,\n",
       "       101576.44119369, 101521.36354767, 125192.09524706])"
      ]
     },
     "execution_count": 57,
     "metadata": {},
     "output_type": "execute_result"
    }
   ],
   "source": [
    "# Linear Regression model\n",
    "LR = LinearRegression()\n",
    "\n",
    "# Model Training\n",
    "LR.fit(X_train, y_train)\n",
    "# Model Prediction\n",
    "LR_pred = LR.predict(X_test)\n",
    "LR_pred"
   ]
  },
  {
   "cell_type": "code",
   "execution_count": 58,
   "metadata": {},
   "outputs": [
    {
     "data": {
      "text/plain": [
       "0.7896875328347052"
      ]
     },
     "execution_count": 58,
     "metadata": {},
     "output_type": "execute_result"
    }
   ],
   "source": [
    "# Model R2 score\n",
    "LR_score = LR.score(X_test, y_test)\n",
    "LR_score"
   ]
  },
  {
   "cell_type": "code",
   "execution_count": 59,
   "metadata": {
    "scrolled": true
   },
   "outputs": [
    {
     "data": {
      "text/html": [
       "<div>\n",
       "<style scoped>\n",
       "    .dataframe tbody tr th:only-of-type {\n",
       "        vertical-align: middle;\n",
       "    }\n",
       "\n",
       "    .dataframe tbody tr th {\n",
       "        vertical-align: top;\n",
       "    }\n",
       "\n",
       "    .dataframe thead th {\n",
       "        text-align: right;\n",
       "    }\n",
       "</style>\n",
       "<table border=\"1\" class=\"dataframe\">\n",
       "  <thead>\n",
       "    <tr style=\"text-align: right;\">\n",
       "      <th></th>\n",
       "      <th>Model</th>\n",
       "      <th>r2score</th>\n",
       "      <th>MAE</th>\n",
       "      <th>MSE</th>\n",
       "      <th>RMSE</th>\n",
       "      <th>MSLE</th>\n",
       "      <th>RMSLE</th>\n",
       "    </tr>\n",
       "  </thead>\n",
       "  <tbody>\n",
       "    <tr>\n",
       "      <th>1</th>\n",
       "      <td>Linear Regression</td>\n",
       "      <td>0.789688</td>\n",
       "      <td>11029.42834</td>\n",
       "      <td>2.030035e+08</td>\n",
       "      <td>14247.930908</td>\n",
       "      <td>0.019417</td>\n",
       "      <td>0.139346</td>\n",
       "    </tr>\n",
       "  </tbody>\n",
       "</table>\n",
       "</div>"
      ],
      "text/plain": [
       "               Model   r2score          MAE           MSE          RMSE  \\\n",
       "1  Linear Regression  0.789688  11029.42834  2.030035e+08  14247.930908   \n",
       "\n",
       "       MSLE     RMSLE  \n",
       "1  0.019417  0.139346  "
      ]
     },
     "execution_count": 59,
     "metadata": {},
     "output_type": "execute_result"
    }
   ],
   "source": [
    "# Model Metrics\n",
    "# Model Metrics\n",
    "LRMetrics = pd.DataFrame({'Model': 'Linear Regression',\n",
    "                          'r2score':r2_score(y_test,LR_pred),\n",
    "                          'MAE': metrics.mean_absolute_error (y_test,LR_pred),\n",
    "                          'MSE': metrics.mean_squared_error(y_test,LR_pred),\n",
    "                          'RMSE': np.sqrt(metrics.mean_squared_error(y_test,LR_pred)),\n",
    "                          'MSLE': metrics.mean_squared_log_error(y_test,LR_pred),\n",
    "                          'RMSLE':np.sqrt(metrics.mean_squared_log_error(y_test,LR_pred))             \n",
    "                          },index=[1])\n",
    "\n",
    "LRMetrics"
   ]
  },
  {
   "cell_type": "code",
   "execution_count": 60,
   "metadata": {},
   "outputs": [
    {
     "data": {
      "image/png": "[encoded data removed]",
      "text/plain": [
       "<Figure size 576x360 with 1 Axes>"
      ]
     },
     "metadata": {
      "needs_background": "light"
     },
     "output_type": "display_data"
    }
   ],
   "source": [
    "# visualisation of Train dataset predictions\n",
    "\n",
    "# Plot outputs\n",
    "plt.figure(figsize=(8,5))\n",
    "pl.plot(y_test, LR_pred,'ro')\n",
    "pl.plot([0,200000],[0,200000],'b-')\n",
    "pl.xlabel('Predicted Profit')\n",
    "pl.ylabel('Profit')\n",
    "pl.show()"
   ]
  },
  {
   "cell_type": "code",
   "execution_count": 61,
   "metadata": {
    "scrolled": true
   },
   "outputs": [
    {
     "data": {
      "text/plain": [
       "array([196200.61464164, 190804.13380377, 163465.76222613, 185518.62710477,\n",
       "       165458.42318882, 168804.34373996, 152064.99412276, 159582.89232814,\n",
       "       137238.89936284, 131426.20899363, 114615.75300126, 122253.23648676,\n",
       "       125642.67053719, 124283.98256284, 147516.68797971, 138270.23083803,\n",
       "       128909.69470328, 130428.84608255, 126971.18353693, 122785.8093497 ,\n",
       "       114201.58082605, 138611.85316089, 103706.8015905 , 110876.67025759,\n",
       "        84539.77364252, 106058.56284192, 104123.85170104, 120334.19149692,\n",
       "       102552.27110015, 110691.5465736 ,  73438.08373785,  91234.07295182,\n",
       "        82430.43463705,  93503.9824739 , 103932.55275968,  82350.60968902,\n",
       "        77840.92894174,  84075.0632891 ,  47071.56505633,  88606.62210742,\n",
       "        88925.1394405 ,  54120.29604516,  48340.32195701,  72399.57130291,\n",
       "        57094.83168624,  24034.00859008,  83917.49538577, 105062.84284181,\n",
       "        35861.25572037,  90806.71875233])"
      ]
     },
     "execution_count": 61,
     "metadata": {},
     "output_type": "execute_result"
    }
   ],
   "source": [
    "# Test final predictions\n",
    "LR_pred1 = LR.predict(X_Test)\n",
    "LR_pred1  "
   ]
  },
  {
   "cell_type": "code",
   "execution_count": 62,
   "metadata": {},
   "outputs": [
    {
     "data": {
      "text/html": [
       "<div>\n",
       "<style scoped>\n",
       "    .dataframe tbody tr th:only-of-type {\n",
       "        vertical-align: middle;\n",
       "    }\n",
       "\n",
       "    .dataframe tbody tr th {\n",
       "        vertical-align: top;\n",
       "    }\n",
       "\n",
       "    .dataframe thead th {\n",
       "        text-align: right;\n",
       "    }\n",
       "</style>\n",
       "<table border=\"1\" class=\"dataframe\">\n",
       "  <thead>\n",
       "    <tr style=\"text-align: right;\">\n",
       "      <th></th>\n",
       "      <th>Model</th>\n",
       "      <th>r2score</th>\n",
       "      <th>MAE</th>\n",
       "      <th>MSE</th>\n",
       "      <th>RMSE</th>\n",
       "      <th>MSLE</th>\n",
       "      <th>RMSLE</th>\n",
       "    </tr>\n",
       "  </thead>\n",
       "  <tbody>\n",
       "    <tr>\n",
       "      <th>1</th>\n",
       "      <td>Linear Regression</td>\n",
       "      <td>0.724957</td>\n",
       "      <td>14192.845301</td>\n",
       "      <td>4.378954e+08</td>\n",
       "      <td>20925.949431</td>\n",
       "      <td>0.130854</td>\n",
       "      <td>0.361737</td>\n",
       "    </tr>\n",
       "  </tbody>\n",
       "</table>\n",
       "</div>"
      ],
      "text/plain": [
       "               Model   r2score           MAE           MSE          RMSE  \\\n",
       "1  Linear Regression  0.724957  14192.845301  4.378954e+08  20925.949431   \n",
       "\n",
       "       MSLE     RMSLE  \n",
       "1  0.130854  0.361737  "
      ]
     },
     "execution_count": 62,
     "metadata": {},
     "output_type": "execute_result"
    }
   ],
   "source": [
    "# Model Metrics\n",
    "LRMetrics1 = pd.DataFrame({'Model': 'Linear Regression',\n",
    "                           'r2score':r2_score(y,LR_pred1),\n",
    "                           'MAE': metrics.mean_absolute_error (y,LR_pred1),\n",
    "                           'MSE': metrics.mean_squared_error(y,LR_pred1),\n",
    "                           'RMSE': np.sqrt(metrics.mean_squared_error(y,LR_pred1)),\n",
    "                           'MSLE': metrics.mean_squared_log_error(y,LR_pred1),\n",
    "                           'RMSLE':np.sqrt(metrics.mean_squared_log_error(y,LR_pred1))             \n",
    "                           },index=[1])\n",
    "\n",
    "LRMetrics1"
   ]
  },
  {
   "cell_type": "code",
   "execution_count": 63,
   "metadata": {},
   "outputs": [
    {
     "data": {
      "image/png": "[encoded data removed]",
      "text/plain": [
       "<Figure size 576x360 with 1 Axes>"
      ]
     },
     "metadata": {
      "needs_background": "light"
     },
     "output_type": "display_data"
    }
   ],
   "source": [
    "# visualisation of Test dataset predictions\n",
    "\n",
    "# Plot outputs\n",
    "plt.figure(figsize=(8,5))\n",
    "pl.plot(y, LR_pred1,'ro')\n",
    "pl.plot([0,200000],[0,200000],'b-')\n",
    "pl.xlabel('Predicted Profit')\n",
    "pl.ylabel('Profit')\n",
    "pl.show()"
   ]
  },
  {
   "cell_type": "code",
   "execution_count": 64,
   "metadata": {
    "scrolled": false
   },
   "outputs": [
    {
     "data": {
      "text/html": [
       "<style  type=\"text/css\" >\n",
       "    #T_6a380e0a_d74e_11eb_8f46_a402b9508501row0_col0 {\n",
       "            background-color:  #08306b;\n",
       "            color:  #f1f1f1;\n",
       "        }    #T_6a380e0a_d74e_11eb_8f46_a402b9508501row0_col1 {\n",
       "            background-color:  #08306b;\n",
       "            color:  #f1f1f1;\n",
       "        }    #T_6a380e0a_d74e_11eb_8f46_a402b9508501row1_col0 {\n",
       "            background-color:  #08326e;\n",
       "            color:  #f1f1f1;\n",
       "        }    #T_6a380e0a_d74e_11eb_8f46_a402b9508501row1_col1 {\n",
       "            background-color:  #08468b;\n",
       "            color:  #f1f1f1;\n",
       "        }    #T_6a380e0a_d74e_11eb_8f46_a402b9508501row2_col0 {\n",
       "            background-color:  #083776;\n",
       "            color:  #f1f1f1;\n",
       "        }    #T_6a380e0a_d74e_11eb_8f46_a402b9508501row2_col1 {\n",
       "            background-color:  #6dafd7;\n",
       "            color:  #000000;\n",
       "        }    #T_6a380e0a_d74e_11eb_8f46_a402b9508501row3_col0 {\n",
       "            background-color:  #1b69af;\n",
       "            color:  #f1f1f1;\n",
       "        }    #T_6a380e0a_d74e_11eb_8f46_a402b9508501row3_col1 {\n",
       "            background-color:  #105ba4;\n",
       "            color:  #f1f1f1;\n",
       "        }    #T_6a380e0a_d74e_11eb_8f46_a402b9508501row4_col0 {\n",
       "            background-color:  #9ac8e0;\n",
       "            color:  #000000;\n",
       "        }    #T_6a380e0a_d74e_11eb_8f46_a402b9508501row4_col1 {\n",
       "            background-color:  #63a8d3;\n",
       "            color:  #000000;\n",
       "        }    #T_6a380e0a_d74e_11eb_8f46_a402b9508501row5_col0 {\n",
       "            background-color:  #d6e5f4;\n",
       "            color:  #000000;\n",
       "        }    #T_6a380e0a_d74e_11eb_8f46_a402b9508501row5_col1 {\n",
       "            background-color:  #529dcc;\n",
       "            color:  #000000;\n",
       "        }    #T_6a380e0a_d74e_11eb_8f46_a402b9508501row6_col0 {\n",
       "            background-color:  #d9e8f5;\n",
       "            color:  #000000;\n",
       "        }    #T_6a380e0a_d74e_11eb_8f46_a402b9508501row6_col1 {\n",
       "            background-color:  #b0d2e7;\n",
       "            color:  #000000;\n",
       "        }    #T_6a380e0a_d74e_11eb_8f46_a402b9508501row7_col0 {\n",
       "            background-color:  #dbe9f6;\n",
       "            color:  #000000;\n",
       "        }    #T_6a380e0a_d74e_11eb_8f46_a402b9508501row7_col1 {\n",
       "            background-color:  #85bcdc;\n",
       "            color:  #000000;\n",
       "        }    #T_6a380e0a_d74e_11eb_8f46_a402b9508501row8_col0 {\n",
       "            background-color:  #ecf4fb;\n",
       "            color:  #000000;\n",
       "        }    #T_6a380e0a_d74e_11eb_8f46_a402b9508501row8_col1 {\n",
       "            background-color:  #e6f0f9;\n",
       "            color:  #000000;\n",
       "        }    #T_6a380e0a_d74e_11eb_8f46_a402b9508501row9_col0 {\n",
       "            background-color:  #f7fbff;\n",
       "            color:  #000000;\n",
       "        }    #T_6a380e0a_d74e_11eb_8f46_a402b9508501row9_col1 {\n",
       "            background-color:  #f7fbff;\n",
       "            color:  #000000;\n",
       "        }</style><table id=\"T_6a380e0a_d74e_11eb_8f46_a402b9508501\" ><thead>    <tr>        <th class=\"blank level0\" ></th>        <th class=\"col_heading level0 col0\" >Actual Profit</th>        <th class=\"col_heading level0 col1\" >LR Predicted Profit</th>    </tr></thead><tbody>\n",
       "                <tr>\n",
       "                        <th id=\"T_6a380e0a_d74e_11eb_8f46_a402b9508501level0_row0\" class=\"row_heading level0 row0\" >0</th>\n",
       "                        <td id=\"T_6a380e0a_d74e_11eb_8f46_a402b9508501row0_col0\" class=\"data row0 col0\" >192262</td>\n",
       "                        <td id=\"T_6a380e0a_d74e_11eb_8f46_a402b9508501row0_col1\" class=\"data row0 col1\" >196201</td>\n",
       "            </tr>\n",
       "            <tr>\n",
       "                        <th id=\"T_6a380e0a_d74e_11eb_8f46_a402b9508501level0_row1\" class=\"row_heading level0 row1\" >1</th>\n",
       "                        <td id=\"T_6a380e0a_d74e_11eb_8f46_a402b9508501row1_col0\" class=\"data row1 col0\" >191792</td>\n",
       "                        <td id=\"T_6a380e0a_d74e_11eb_8f46_a402b9508501row1_col1\" class=\"data row1 col1\" >190804</td>\n",
       "            </tr>\n",
       "            <tr>\n",
       "                        <th id=\"T_6a380e0a_d74e_11eb_8f46_a402b9508501level0_row2\" class=\"row_heading level0 row2\" >2</th>\n",
       "                        <td id=\"T_6a380e0a_d74e_11eb_8f46_a402b9508501row2_col0\" class=\"data row2 col0\" >191050</td>\n",
       "                        <td id=\"T_6a380e0a_d74e_11eb_8f46_a402b9508501row2_col1\" class=\"data row2 col1\" >163466</td>\n",
       "            </tr>\n",
       "            <tr>\n",
       "                        <th id=\"T_6a380e0a_d74e_11eb_8f46_a402b9508501level0_row3\" class=\"row_heading level0 row3\" >3</th>\n",
       "                        <td id=\"T_6a380e0a_d74e_11eb_8f46_a402b9508501row3_col0\" class=\"data row3 col0\" >182902</td>\n",
       "                        <td id=\"T_6a380e0a_d74e_11eb_8f46_a402b9508501row3_col1\" class=\"data row3 col1\" >185519</td>\n",
       "            </tr>\n",
       "            <tr>\n",
       "                        <th id=\"T_6a380e0a_d74e_11eb_8f46_a402b9508501level0_row4\" class=\"row_heading level0 row4\" >4</th>\n",
       "                        <td id=\"T_6a380e0a_d74e_11eb_8f46_a402b9508501row4_col0\" class=\"data row4 col0\" >166188</td>\n",
       "                        <td id=\"T_6a380e0a_d74e_11eb_8f46_a402b9508501row4_col1\" class=\"data row4 col1\" >165458</td>\n",
       "            </tr>\n",
       "            <tr>\n",
       "                        <th id=\"T_6a380e0a_d74e_11eb_8f46_a402b9508501level0_row5\" class=\"row_heading level0 row5\" >5</th>\n",
       "                        <td id=\"T_6a380e0a_d74e_11eb_8f46_a402b9508501row5_col0\" class=\"data row5 col0\" >156991</td>\n",
       "                        <td id=\"T_6a380e0a_d74e_11eb_8f46_a402b9508501row5_col1\" class=\"data row5 col1\" >168804</td>\n",
       "            </tr>\n",
       "            <tr>\n",
       "                        <th id=\"T_6a380e0a_d74e_11eb_8f46_a402b9508501level0_row6\" class=\"row_heading level0 row6\" >6</th>\n",
       "                        <td id=\"T_6a380e0a_d74e_11eb_8f46_a402b9508501row6_col0\" class=\"data row6 col0\" >156123</td>\n",
       "                        <td id=\"T_6a380e0a_d74e_11eb_8f46_a402b9508501row6_col1\" class=\"data row6 col1\" >152065</td>\n",
       "            </tr>\n",
       "            <tr>\n",
       "                        <th id=\"T_6a380e0a_d74e_11eb_8f46_a402b9508501level0_row7\" class=\"row_heading level0 row7\" >7</th>\n",
       "                        <td id=\"T_6a380e0a_d74e_11eb_8f46_a402b9508501row7_col0\" class=\"data row7 col0\" >155753</td>\n",
       "                        <td id=\"T_6a380e0a_d74e_11eb_8f46_a402b9508501row7_col1\" class=\"data row7 col1\" >159583</td>\n",
       "            </tr>\n",
       "            <tr>\n",
       "                        <th id=\"T_6a380e0a_d74e_11eb_8f46_a402b9508501level0_row8\" class=\"row_heading level0 row8\" >8</th>\n",
       "                        <td id=\"T_6a380e0a_d74e_11eb_8f46_a402b9508501row8_col0\" class=\"data row8 col0\" >152212</td>\n",
       "                        <td id=\"T_6a380e0a_d74e_11eb_8f46_a402b9508501row8_col1\" class=\"data row8 col1\" >137239</td>\n",
       "            </tr>\n",
       "            <tr>\n",
       "                        <th id=\"T_6a380e0a_d74e_11eb_8f46_a402b9508501level0_row9\" class=\"row_heading level0 row9\" >9</th>\n",
       "                        <td id=\"T_6a380e0a_d74e_11eb_8f46_a402b9508501row9_col0\" class=\"data row9 col0\" >149760</td>\n",
       "                        <td id=\"T_6a380e0a_d74e_11eb_8f46_a402b9508501row9_col1\" class=\"data row9 col1\" >131426</td>\n",
       "            </tr>\n",
       "    </tbody></table>"
      ],
      "text/plain": [
       "<pandas.io.formats.style.Styler at 0x2593c236c50>"
      ]
     },
     "execution_count": 64,
     "metadata": {},
     "output_type": "execute_result"
    }
   ],
   "source": [
    "# comparison between Actual 'Profit' from Train dataset abd Predicted 'Profit' from Test dataset\n",
    "# comparison between Actual 'Profit' from Train dataset abd Predicted 'Profit' from Test dataset\n",
    "actualvspredicted = pd.DataFrame({\"Actual Profit\":y,\"LR Predicted Profit\":LR_pred1 })\n",
    "actualvspredicted.head(10).style.background_gradient(cmap='Blues')"
   ]
  },
  {
   "cell_type": "markdown",
   "metadata": {},
   "source": [
    "* #### Gradient Boosting Regressor"
   ]
  },
  {
   "cell_type": "code",
   "execution_count": 65,
   "metadata": {},
   "outputs": [],
   "source": [
    "# Gradient Boosting Regressor model\n",
    "GB=GradientBoostingRegressor(random_state=0)\n",
    "\n",
    "# Model Training\n",
    "GB.fit(X_train,y_train)\n",
    "\n",
    "# Model Prediction\n",
    "GB_pred = GB.predict(X_test)\n",
    "\n",
    "# Model R2 score\n",
    "GBscore =GB.score(X_test, y_test)"
   ]
  },
  {
   "cell_type": "code",
   "execution_count": 66,
   "metadata": {},
   "outputs": [
    {
     "data": {
      "text/html": [
       "<div>\n",
       "<style scoped>\n",
       "    .dataframe tbody tr th:only-of-type {\n",
       "        vertical-align: middle;\n",
       "    }\n",
       "\n",
       "    .dataframe tbody tr th {\n",
       "        vertical-align: top;\n",
       "    }\n",
       "\n",
       "    .dataframe thead th {\n",
       "        text-align: right;\n",
       "    }\n",
       "</style>\n",
       "<table border=\"1\" class=\"dataframe\">\n",
       "  <thead>\n",
       "    <tr style=\"text-align: right;\">\n",
       "      <th></th>\n",
       "      <th>Model</th>\n",
       "      <th>r2score</th>\n",
       "      <th>MAE</th>\n",
       "      <th>MSE</th>\n",
       "      <th>RMSE</th>\n",
       "      <th>MSLE</th>\n",
       "      <th>RMSLE</th>\n",
       "    </tr>\n",
       "  </thead>\n",
       "  <tbody>\n",
       "    <tr>\n",
       "      <th>2</th>\n",
       "      <td>Gradient Boosting Regressor</td>\n",
       "      <td>0.856466</td>\n",
       "      <td>9292.129884</td>\n",
       "      <td>1.385459e+08</td>\n",
       "      <td>11770.552538</td>\n",
       "      <td>0.01754</td>\n",
       "      <td>0.13244</td>\n",
       "    </tr>\n",
       "  </tbody>\n",
       "</table>\n",
       "</div>"
      ],
      "text/plain": [
       "                         Model   r2score          MAE           MSE  \\\n",
       "2  Gradient Boosting Regressor  0.856466  9292.129884  1.385459e+08   \n",
       "\n",
       "           RMSE     MSLE    RMSLE  \n",
       "2  11770.552538  0.01754  0.13244  "
      ]
     },
     "execution_count": 66,
     "metadata": {},
     "output_type": "execute_result"
    }
   ],
   "source": [
    "# Model Metrics\n",
    "GBMetrics = pd.DataFrame({'Model': 'Gradient Boosting Regressor',\n",
    "                          'r2score':r2_score(y_test,GB_pred),\n",
    "                          'MAE': metrics.mean_absolute_error (y_test,GB_pred),\n",
    "                          'MSE': metrics.mean_squared_error(y_test,GB_pred),\n",
    "                          'RMSE': np.sqrt(metrics.mean_squared_error(y_test,GB_pred)),\n",
    "                          'MSLE': metrics.mean_squared_log_error(y_test,GB_pred),\n",
    "                          'RMSLE':np.sqrt(metrics.mean_squared_log_error(y_test,GB_pred))             \n",
    "                          },index=[2])\n",
    "\n",
    "GBMetrics"
   ]
  },
  {
   "cell_type": "code",
   "execution_count": 67,
   "metadata": {},
   "outputs": [],
   "source": [
    "# Test final predictions\n",
    "GB_pred1 = GB.predict(X_Test)"
   ]
  },
  {
   "cell_type": "code",
   "execution_count": 68,
   "metadata": {},
   "outputs": [
    {
     "data": {
      "text/html": [
       "<div>\n",
       "<style scoped>\n",
       "    .dataframe tbody tr th:only-of-type {\n",
       "        vertical-align: middle;\n",
       "    }\n",
       "\n",
       "    .dataframe tbody tr th {\n",
       "        vertical-align: top;\n",
       "    }\n",
       "\n",
       "    .dataframe thead th {\n",
       "        text-align: right;\n",
       "    }\n",
       "</style>\n",
       "<table border=\"1\" class=\"dataframe\">\n",
       "  <thead>\n",
       "    <tr style=\"text-align: right;\">\n",
       "      <th></th>\n",
       "      <th>Model</th>\n",
       "      <th>r2score</th>\n",
       "      <th>MAE</th>\n",
       "      <th>MSE</th>\n",
       "      <th>RMSE</th>\n",
       "      <th>MSLE</th>\n",
       "      <th>RMSLE</th>\n",
       "    </tr>\n",
       "  </thead>\n",
       "  <tbody>\n",
       "    <tr>\n",
       "      <th>1</th>\n",
       "      <td>GradientBoostingRegressor</td>\n",
       "      <td>0.877941</td>\n",
       "      <td>8225.392942</td>\n",
       "      <td>1.943290e+08</td>\n",
       "      <td>13940.194429</td>\n",
       "      <td>0.067883</td>\n",
       "      <td>0.260543</td>\n",
       "    </tr>\n",
       "  </tbody>\n",
       "</table>\n",
       "</div>"
      ],
      "text/plain": [
       "                       Model   r2score          MAE           MSE  \\\n",
       "1  GradientBoostingRegressor  0.877941  8225.392942  1.943290e+08   \n",
       "\n",
       "           RMSE      MSLE     RMSLE  \n",
       "1  13940.194429  0.067883  0.260543  "
      ]
     },
     "execution_count": 68,
     "metadata": {},
     "output_type": "execute_result"
    }
   ],
   "source": [
    "# Model Metrics\n",
    "GBMetrics1 = pd.DataFrame({'Model': 'GradientBoostingRegressor',\n",
    "                           'r2score':r2_score(y,GB_pred1),\n",
    "                           'MAE': metrics.mean_absolute_error (y,GB_pred1),\n",
    "                           'MSE': metrics.mean_squared_error(y,GB_pred1),\n",
    "                           'RMSE': np.sqrt(metrics.mean_squared_error(y,GB_pred1)),\n",
    "                           'MSLE': metrics.mean_squared_log_error(y,GB_pred1),\n",
    "                           'RMSLE':np.sqrt(metrics.mean_squared_log_error(y,GB_pred1))             \n",
    "                          },index=[1])\n",
    "\n",
    "GBMetrics1"
   ]
  },
  {
   "cell_type": "code",
   "execution_count": 69,
   "metadata": {},
   "outputs": [
    {
     "data": {
      "image/png": "[encoded data removed]",
      "text/plain": [
       "<Figure size 576x360 with 1 Axes>"
      ]
     },
     "metadata": {
      "needs_background": "light"
     },
     "output_type": "display_data"
    }
   ],
   "source": [
    "# visualisation of Test dataset predictions\n",
    "\n",
    "# Plot outputs\n",
    "plt.figure(figsize=(8,5))\n",
    "pl.plot(y, GB_pred1,'ro')\n",
    "pl.plot([0,200000],[0,200000], 'b-')\n",
    "pl.xlabel('Predicted Profit')\n",
    "pl.ylabel('Profit')\n",
    "pl.show()"
   ]
  },
  {
   "cell_type": "markdown",
   "metadata": {},
   "source": [
    "### Model comparison"
   ]
  },
  {
   "cell_type": "code",
   "execution_count": 70,
   "metadata": {
    "scrolled": true
   },
   "outputs": [
    {
     "data": {
      "text/html": [
       "<div>\n",
       "<style scoped>\n",
       "    .dataframe tbody tr th:only-of-type {\n",
       "        vertical-align: middle;\n",
       "    }\n",
       "\n",
       "    .dataframe tbody tr th {\n",
       "        vertical-align: top;\n",
       "    }\n",
       "\n",
       "    .dataframe thead th {\n",
       "        text-align: right;\n",
       "    }\n",
       "</style>\n",
       "<table border=\"1\" class=\"dataframe\">\n",
       "  <thead>\n",
       "    <tr style=\"text-align: right;\">\n",
       "      <th></th>\n",
       "      <th>Model</th>\n",
       "      <th>r2score</th>\n",
       "      <th>MAE</th>\n",
       "      <th>MSE</th>\n",
       "      <th>RMSE</th>\n",
       "      <th>MSLE</th>\n",
       "      <th>RMSLE</th>\n",
       "    </tr>\n",
       "  </thead>\n",
       "  <tbody>\n",
       "    <tr>\n",
       "      <th>1</th>\n",
       "      <td>Linear Regression</td>\n",
       "      <td>0.724957</td>\n",
       "      <td>14192.845301</td>\n",
       "      <td>4.378954e+08</td>\n",
       "      <td>20925.949431</td>\n",
       "      <td>0.130854</td>\n",
       "      <td>0.361737</td>\n",
       "    </tr>\n",
       "    <tr>\n",
       "      <th>1</th>\n",
       "      <td>GradientBoostingRegressor</td>\n",
       "      <td>0.877941</td>\n",
       "      <td>8225.392942</td>\n",
       "      <td>1.943290e+08</td>\n",
       "      <td>13940.194429</td>\n",
       "      <td>0.067883</td>\n",
       "      <td>0.260543</td>\n",
       "    </tr>\n",
       "  </tbody>\n",
       "</table>\n",
       "</div>"
      ],
      "text/plain": [
       "                       Model   r2score           MAE           MSE  \\\n",
       "1          Linear Regression  0.724957  14192.845301  4.378954e+08   \n",
       "1  GradientBoostingRegressor  0.877941   8225.392942  1.943290e+08   \n",
       "\n",
       "           RMSE      MSLE     RMSLE  \n",
       "1  20925.949431  0.130854  0.361737  \n",
       "1  13940.194429  0.067883  0.260543  "
      ]
     },
     "execution_count": 70,
     "metadata": {},
     "output_type": "execute_result"
    }
   ],
   "source": [
    "# score comparison of models\n",
    "frames = [LRMetrics1,GBMetrics1]\n",
    "TrainingResult = pd.concat(frames)\n",
    "TrainingResult"
   ]
  },
  {
   "cell_type": "code",
   "execution_count": 71,
   "metadata": {
    "scrolled": false
   },
   "outputs": [
    {
     "data": {
      "text/html": [
       "<style  type=\"text/css\" >\n",
       "    #T_73047f64_d74e_11eb_baf0_a402b9508501row0_col0 {\n",
       "            background-color:  #08306b;\n",
       "            color:  #f1f1f1;\n",
       "        }    #T_73047f64_d74e_11eb_baf0_a402b9508501row0_col1 {\n",
       "            background-color:  #08306b;\n",
       "            color:  #f1f1f1;\n",
       "        }    #T_73047f64_d74e_11eb_baf0_a402b9508501row0_col2 {\n",
       "            background-color:  #08306b;\n",
       "            color:  #f1f1f1;\n",
       "        }    #T_73047f64_d74e_11eb_baf0_a402b9508501row1_col0 {\n",
       "            background-color:  #08326e;\n",
       "            color:  #f1f1f1;\n",
       "        }    #T_73047f64_d74e_11eb_baf0_a402b9508501row1_col1 {\n",
       "            background-color:  #08468b;\n",
       "            color:  #f1f1f1;\n",
       "        }    #T_73047f64_d74e_11eb_baf0_a402b9508501row1_col2 {\n",
       "            background-color:  #08316d;\n",
       "            color:  #f1f1f1;\n",
       "        }    #T_73047f64_d74e_11eb_baf0_a402b9508501row2_col0 {\n",
       "            background-color:  #083776;\n",
       "            color:  #f1f1f1;\n",
       "        }    #T_73047f64_d74e_11eb_baf0_a402b9508501row2_col1 {\n",
       "            background-color:  #6dafd7;\n",
       "            color:  #000000;\n",
       "        }    #T_73047f64_d74e_11eb_baf0_a402b9508501row2_col2 {\n",
       "            background-color:  #1764ab;\n",
       "            color:  #f1f1f1;\n",
       "        }    #T_73047f64_d74e_11eb_baf0_a402b9508501row3_col0 {\n",
       "            background-color:  #1b69af;\n",
       "            color:  #f1f1f1;\n",
       "        }    #T_73047f64_d74e_11eb_baf0_a402b9508501row3_col1 {\n",
       "            background-color:  #105ba4;\n",
       "            color:  #f1f1f1;\n",
       "        }    #T_73047f64_d74e_11eb_baf0_a402b9508501row3_col2 {\n",
       "            background-color:  #1663aa;\n",
       "            color:  #f1f1f1;\n",
       "        }    #T_73047f64_d74e_11eb_baf0_a402b9508501row4_col0 {\n",
       "            background-color:  #9ac8e0;\n",
       "            color:  #000000;\n",
       "        }    #T_73047f64_d74e_11eb_baf0_a402b9508501row4_col1 {\n",
       "            background-color:  #63a8d3;\n",
       "            color:  #000000;\n",
       "        }    #T_73047f64_d74e_11eb_baf0_a402b9508501row4_col2 {\n",
       "            background-color:  #5ba3d0;\n",
       "            color:  #000000;\n",
       "        }    #T_73047f64_d74e_11eb_baf0_a402b9508501row5_col0 {\n",
       "            background-color:  #d6e5f4;\n",
       "            color:  #000000;\n",
       "        }    #T_73047f64_d74e_11eb_baf0_a402b9508501row5_col1 {\n",
       "            background-color:  #529dcc;\n",
       "            color:  #000000;\n",
       "        }    #T_73047f64_d74e_11eb_baf0_a402b9508501row5_col2 {\n",
       "            background-color:  #dbe9f6;\n",
       "            color:  #000000;\n",
       "        }    #T_73047f64_d74e_11eb_baf0_a402b9508501row6_col0 {\n",
       "            background-color:  #d9e8f5;\n",
       "            color:  #000000;\n",
       "        }    #T_73047f64_d74e_11eb_baf0_a402b9508501row6_col1 {\n",
       "            background-color:  #b0d2e7;\n",
       "            color:  #000000;\n",
       "        }    #T_73047f64_d74e_11eb_baf0_a402b9508501row6_col2 {\n",
       "            background-color:  #dfecf7;\n",
       "            color:  #000000;\n",
       "        }    #T_73047f64_d74e_11eb_baf0_a402b9508501row7_col0 {\n",
       "            background-color:  #dbe9f6;\n",
       "            color:  #000000;\n",
       "        }    #T_73047f64_d74e_11eb_baf0_a402b9508501row7_col1 {\n",
       "            background-color:  #85bcdc;\n",
       "            color:  #000000;\n",
       "        }    #T_73047f64_d74e_11eb_baf0_a402b9508501row7_col2 {\n",
       "            background-color:  #e2edf8;\n",
       "            color:  #000000;\n",
       "        }    #T_73047f64_d74e_11eb_baf0_a402b9508501row8_col0 {\n",
       "            background-color:  #ecf4fb;\n",
       "            color:  #000000;\n",
       "        }    #T_73047f64_d74e_11eb_baf0_a402b9508501row8_col1 {\n",
       "            background-color:  #e6f0f9;\n",
       "            color:  #000000;\n",
       "        }    #T_73047f64_d74e_11eb_baf0_a402b9508501row8_col2 {\n",
       "            background-color:  #f3f8fe;\n",
       "            color:  #000000;\n",
       "        }    #T_73047f64_d74e_11eb_baf0_a402b9508501row9_col0 {\n",
       "            background-color:  #f7fbff;\n",
       "            color:  #000000;\n",
       "        }    #T_73047f64_d74e_11eb_baf0_a402b9508501row9_col1 {\n",
       "            background-color:  #f7fbff;\n",
       "            color:  #000000;\n",
       "        }    #T_73047f64_d74e_11eb_baf0_a402b9508501row9_col2 {\n",
       "            background-color:  #f7fbff;\n",
       "            color:  #000000;\n",
       "        }</style><table id=\"T_73047f64_d74e_11eb_baf0_a402b9508501\" ><thead>    <tr>        <th class=\"blank level0\" ></th>        <th class=\"col_heading level0 col0\" >Actual Profit</th>        <th class=\"col_heading level0 col1\" >LR Predicted Profit</th>        <th class=\"col_heading level0 col2\" >GB Predicted Profit</th>    </tr></thead><tbody>\n",
       "                <tr>\n",
       "                        <th id=\"T_73047f64_d74e_11eb_baf0_a402b9508501level0_row0\" class=\"row_heading level0 row0\" >0</th>\n",
       "                        <td id=\"T_73047f64_d74e_11eb_baf0_a402b9508501row0_col0\" class=\"data row0 col0\" >192262</td>\n",
       "                        <td id=\"T_73047f64_d74e_11eb_baf0_a402b9508501row0_col1\" class=\"data row0 col1\" >196201</td>\n",
       "                        <td id=\"T_73047f64_d74e_11eb_baf0_a402b9508501row0_col2\" class=\"data row0 col2\" >191836</td>\n",
       "            </tr>\n",
       "            <tr>\n",
       "                        <th id=\"T_73047f64_d74e_11eb_baf0_a402b9508501level0_row1\" class=\"row_heading level0 row1\" >1</th>\n",
       "                        <td id=\"T_73047f64_d74e_11eb_baf0_a402b9508501row1_col0\" class=\"data row1 col0\" >191792</td>\n",
       "                        <td id=\"T_73047f64_d74e_11eb_baf0_a402b9508501row1_col1\" class=\"data row1 col1\" >190804</td>\n",
       "                        <td id=\"T_73047f64_d74e_11eb_baf0_a402b9508501row1_col2\" class=\"data row1 col2\" >191631</td>\n",
       "            </tr>\n",
       "            <tr>\n",
       "                        <th id=\"T_73047f64_d74e_11eb_baf0_a402b9508501level0_row2\" class=\"row_heading level0 row2\" >2</th>\n",
       "                        <td id=\"T_73047f64_d74e_11eb_baf0_a402b9508501row2_col0\" class=\"data row2 col0\" >191050</td>\n",
       "                        <td id=\"T_73047f64_d74e_11eb_baf0_a402b9508501row2_col1\" class=\"data row2 col1\" >163466</td>\n",
       "                        <td id=\"T_73047f64_d74e_11eb_baf0_a402b9508501row2_col2\" class=\"data row2 col2\" >183631</td>\n",
       "            </tr>\n",
       "            <tr>\n",
       "                        <th id=\"T_73047f64_d74e_11eb_baf0_a402b9508501level0_row3\" class=\"row_heading level0 row3\" >3</th>\n",
       "                        <td id=\"T_73047f64_d74e_11eb_baf0_a402b9508501row3_col0\" class=\"data row3 col0\" >182902</td>\n",
       "                        <td id=\"T_73047f64_d74e_11eb_baf0_a402b9508501row3_col1\" class=\"data row3 col1\" >185519</td>\n",
       "                        <td id=\"T_73047f64_d74e_11eb_baf0_a402b9508501row3_col2\" class=\"data row3 col2\" >183904</td>\n",
       "            </tr>\n",
       "            <tr>\n",
       "                        <th id=\"T_73047f64_d74e_11eb_baf0_a402b9508501level0_row4\" class=\"row_heading level0 row4\" >4</th>\n",
       "                        <td id=\"T_73047f64_d74e_11eb_baf0_a402b9508501row4_col0\" class=\"data row4 col0\" >166188</td>\n",
       "                        <td id=\"T_73047f64_d74e_11eb_baf0_a402b9508501row4_col1\" class=\"data row4 col1\" >165458</td>\n",
       "                        <td id=\"T_73047f64_d74e_11eb_baf0_a402b9508501row4_col2\" class=\"data row4 col2\" >173465</td>\n",
       "            </tr>\n",
       "            <tr>\n",
       "                        <th id=\"T_73047f64_d74e_11eb_baf0_a402b9508501level0_row5\" class=\"row_heading level0 row5\" >5</th>\n",
       "                        <td id=\"T_73047f64_d74e_11eb_baf0_a402b9508501row5_col0\" class=\"data row5 col0\" >156991</td>\n",
       "                        <td id=\"T_73047f64_d74e_11eb_baf0_a402b9508501row5_col1\" class=\"data row5 col1\" >168804</td>\n",
       "                        <td id=\"T_73047f64_d74e_11eb_baf0_a402b9508501row5_col2\" class=\"data row5 col2\" >156991</td>\n",
       "            </tr>\n",
       "            <tr>\n",
       "                        <th id=\"T_73047f64_d74e_11eb_baf0_a402b9508501level0_row6\" class=\"row_heading level0 row6\" >6</th>\n",
       "                        <td id=\"T_73047f64_d74e_11eb_baf0_a402b9508501row6_col0\" class=\"data row6 col0\" >156123</td>\n",
       "                        <td id=\"T_73047f64_d74e_11eb_baf0_a402b9508501row6_col1\" class=\"data row6 col1\" >152065</td>\n",
       "                        <td id=\"T_73047f64_d74e_11eb_baf0_a402b9508501row6_col2\" class=\"data row6 col2\" >156065</td>\n",
       "            </tr>\n",
       "            <tr>\n",
       "                        <th id=\"T_73047f64_d74e_11eb_baf0_a402b9508501level0_row7\" class=\"row_heading level0 row7\" >7</th>\n",
       "                        <td id=\"T_73047f64_d74e_11eb_baf0_a402b9508501row7_col0\" class=\"data row7 col0\" >155753</td>\n",
       "                        <td id=\"T_73047f64_d74e_11eb_baf0_a402b9508501row7_col1\" class=\"data row7 col1\" >159583</td>\n",
       "                        <td id=\"T_73047f64_d74e_11eb_baf0_a402b9508501row7_col2\" class=\"data row7 col2\" >155657</td>\n",
       "            </tr>\n",
       "            <tr>\n",
       "                        <th id=\"T_73047f64_d74e_11eb_baf0_a402b9508501level0_row8\" class=\"row_heading level0 row8\" >8</th>\n",
       "                        <td id=\"T_73047f64_d74e_11eb_baf0_a402b9508501row8_col0\" class=\"data row8 col0\" >152212</td>\n",
       "                        <td id=\"T_73047f64_d74e_11eb_baf0_a402b9508501row8_col1\" class=\"data row8 col1\" >137239</td>\n",
       "                        <td id=\"T_73047f64_d74e_11eb_baf0_a402b9508501row8_col2\" class=\"data row8 col2\" >152097</td>\n",
       "            </tr>\n",
       "            <tr>\n",
       "                        <th id=\"T_73047f64_d74e_11eb_baf0_a402b9508501level0_row9\" class=\"row_heading level0 row9\" >9</th>\n",
       "                        <td id=\"T_73047f64_d74e_11eb_baf0_a402b9508501row9_col0\" class=\"data row9 col0\" >149760</td>\n",
       "                        <td id=\"T_73047f64_d74e_11eb_baf0_a402b9508501row9_col1\" class=\"data row9 col1\" >131426</td>\n",
       "                        <td id=\"T_73047f64_d74e_11eb_baf0_a402b9508501row9_col2\" class=\"data row9 col2\" >151240</td>\n",
       "            </tr>\n",
       "    </tbody></table>"
      ],
      "text/plain": [
       "<pandas.io.formats.style.Styler at 0x2593ae4ca90>"
      ]
     },
     "execution_count": 71,
     "metadata": {},
     "output_type": "execute_result"
    }
   ],
   "source": [
    "# comparison between Actual 'Profit' from Train dataset abd Predicted 'Profit' from Test dataset\n",
    "actualvspredicted = pd.DataFrame({\"Actual Profit\":y,\"LR Predicted Profit\":LR_pred1, \"GB Predicted Profit\":GB_pred1})\n",
    "actualvspredicted.head(10).style.background_gradient(cmap='Blues')"
   ]
  },
  {
   "cell_type": "markdown",
   "metadata": {},
   "source": [
    "**Result**: The best model is **Gradient Boosting Regressor** with **R2 score = 0.877941**."
   ]
  },
  {
   "cell_type": "markdown",
   "metadata": {},
   "source": [
    "##  Conclusion."
   ]
  },
  {
   "cell_type": "code",
   "execution_count": 72,
   "metadata": {},
   "outputs": [],
   "source": [
    "# submission of .csv file with final predictions\n",
    "sub = pd.DataFrame()\n",
    "sub['ID'] = test.index\n",
    "sub['Profit'] = GB_pred1\n",
    "sub.to_csv('StartupPredictions.csv', index=False)"
   ]
  },
  {
   "cell_type": "markdown",
   "metadata": {},
   "source": [
    "**The End.**"
   ]
  }
 ],
 "metadata": {
  "kernelspec": {
   "display_name": "Python 3",
   "language": "python",
   "name": "python3"
  },
  "language_info": {
   "codemirror_mode": {
    "name": "ipython",
    "version": 3
   },
   "file_extension": ".py",
   "mimetype": "text/x-python",
   "name": "python",
   "nbconvert_exporter": "python",
   "pygments_lexer": "ipython3",
   "version": "3.6.8"
  }
 },
 "nbformat": 4,
 "nbformat_minor": 4
}
